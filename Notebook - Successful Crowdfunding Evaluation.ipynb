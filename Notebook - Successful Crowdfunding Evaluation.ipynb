{
 "cells": [
  {
   "cell_type": "markdown",
   "metadata": {},
   "source": [
    "### Marco Sasso - Reti Data Science"
   ]
  },
  {
   "cell_type": "markdown",
   "metadata": {},
   "source": [
    "# Successful Crowdfunding Evaluation\n",
    "## Applicazione di algoritmi di classificazione supervisionati per la valutazione di campagne di crowdfunding all'interno della piattaforma Kickstarter\n",
    "\n",
    "\n",
    "\n",
    "### Indice\n",
    "* [1. La piattaforma Kickstarter](#section1)<a href='section1'></a>\n",
    "* [2. Obiettivo del progetto](#section2)<a href='section2'></a>\n",
    "* [3. Esplorazione del dataset](#section3)<a href='section3'></a>\n",
    "* [4. Costruzione del dataset per i modelli di Machine Learning](#section4)<a href='section4'></a>\n",
    "* [5. Training e Test dei modelli di Machine Learning](#section5)<a href='section5'></a>\n"
   ]
  },
  {
   "cell_type": "markdown",
   "metadata": {},
   "source": [
    "<a id='section1'></a>\n",
    "### 1. La piattaforma Kickstarter\n",
    "Fondato ad aprile 2009 da Perry Chen, Yancey Strickler e Charles Adler, Kickstarter è un sito web americano il cui è scopo è porsi come intermediario all'interno di operazioni di finanziamento collettivo per progetti creativi (il cosiddetto \"Crowdfunding\"), facilitando l'incontro tra domanda e offerta di capitali.\n",
    "\n",
    "All'interno della piattaforma, i creatori di un progetto fissano un target minimo di raccolta (o \"Goal\", come si vedrà in seguito) e una data di scadenza per la campagna di crowdfunding. Se il target non viene raggiunto entro la scadenza, i fondi non vengono raccolti da chi ha promosso il progetto.\n",
    "Il finanziamento di un progetto, all'interno di Kickstarter, è inteso unicamente come \"supporto\" allo spirito di iniziativa dei creatori. Gli investitori, infatti, non traggono benefici in denaro dalla riuscita di un progetto, ma vengono ricompensati con altri tipi di prodotti e/o esperienze come incontri con i creatori, possibilità di prova in anteprima dei prodotti, magliette personalizzate ecc.\n",
    "\n",
    "In 10 anni di esistenza, secondo i dati aggiornati a maggio 2019, su Kickstarter sono stati raccolti più di 4 miliardi di dollari da più di 16 milioni di investitori, che hanno portato a finanziare circa 445.000 progetti riguardanti film, musica, fumetti, giornalismo, videogames ecc."
   ]
  },
  {
   "cell_type": "markdown",
   "metadata": {},
   "source": [
    "<a id='section2'></a>\n",
    "### 2. Obiettivo del progetto\n",
    "L'obiettivo di questo progetto è creare dei modelli in grado di valutare ex-ante l'esito della campagna di crowdfunding di un progetto applicando alcuni algoritmi di classificazione supervisionati.\n",
    "\n",
    "A questo scopo, si è utilizzato un dataset scaricato dalla piattaforma Kaggle (https://www.kaggle.com/kemical/kickstarter-projects) che, opportunamente elaborato, è stato fornito come input per la costruzione di modelli di predizione secondo le metodologie che verranno descritte nei capitoli successivi."
   ]
  },
  {
   "cell_type": "markdown",
   "metadata": {},
   "source": [
    "<a id='section3'></a>\n",
    "### 3. Esplorazione del dataset\n",
    "Importo le librerie Python necessarie al funzionamento del codice:"
   ]
  },
  {
   "cell_type": "code",
   "execution_count": 1,
   "metadata": {},
   "outputs": [],
   "source": [
    "%reload_ext autoreload\n",
    "%autoreload 2\n",
    "%matplotlib inline"
   ]
  },
  {
   "cell_type": "code",
   "execution_count": 2,
   "metadata": {},
   "outputs": [],
   "source": [
    "import pandas as pd\n",
    "import numpy as np\n",
    "import sklearn.metrics as metrics\n",
    "import time\n",
    "import seaborn as sns\n",
    "import math\n",
    "import matplotlib.pyplot as plt\n",
    "import statistics\n",
    "\n",
    "from sklearn.preprocessing import StandardScaler, RobustScaler, MinMaxScaler\n",
    "from sklearn.model_selection import train_test_split, cross_val_score, KFold\n",
    "from sklearn.ensemble import RandomForestClassifier\n",
    "from sklearn.neighbors import KNeighborsClassifier\n",
    "from sklearn.linear_model import LogisticRegression"
   ]
  },
  {
   "cell_type": "markdown",
   "metadata": {},
   "source": [
    "Ora è possibile importare il dataset dei progetti Kickstarter all'interno di un DataFrame Pandas. Creo due copie inizialmente identiche del dataset: **dataTBA** (To Be Analyzed) e **dataML** (Machine Learning) utilizzati, rispettivamente, per l'analisi iniziale dei dati a disposizione e per il train/test degli algoritmi di classificazione: "
   ]
  },
  {
   "cell_type": "code",
   "execution_count": 3,
   "metadata": {},
   "outputs": [],
   "source": [
    "dataset = pd.read_csv('KickStarterProjects.csv') # dataset originario\n",
    "dataTBA = dataset.copy() # dataset per analisi preliminari\n",
    "dataML = dataTBA.copy() # dataset per train e test dei modelli di Machine Learning"
   ]
  },
  {
   "cell_type": "markdown",
   "metadata": {},
   "source": [
    "Controllo quanti record, ossia progetti, contiene il dataset e quante features sono associate a ciascuno di esso"
   ]
  },
  {
   "cell_type": "code",
   "execution_count": 4,
   "metadata": {},
   "outputs": [
    {
     "name": "stdout",
     "output_type": "stream",
     "text": [
      "Il dataset contiene 378661 record e 15 features\n"
     ]
    }
   ],
   "source": [
    "print('Il dataset contiene', dataTBA.shape[0], 'record e', dataTBA.shape[1], 'features')"
   ]
  },
  {
   "cell_type": "markdown",
   "metadata": {},
   "source": [
    "Il dataset è inizialmente strutturato in questa maniera:"
   ]
  },
  {
   "cell_type": "code",
   "execution_count": 5,
   "metadata": {},
   "outputs": [
    {
     "data": {
      "text/html": [
       "<div>\n",
       "<style scoped>\n",
       "    .dataframe tbody tr th:only-of-type {\n",
       "        vertical-align: middle;\n",
       "    }\n",
       "\n",
       "    .dataframe tbody tr th {\n",
       "        vertical-align: top;\n",
       "    }\n",
       "\n",
       "    .dataframe thead th {\n",
       "        text-align: right;\n",
       "    }\n",
       "</style>\n",
       "<table border=\"1\" class=\"dataframe\">\n",
       "  <thead>\n",
       "    <tr style=\"text-align: right;\">\n",
       "      <th></th>\n",
       "      <th>ID</th>\n",
       "      <th>name</th>\n",
       "      <th>category</th>\n",
       "      <th>main_category</th>\n",
       "      <th>currency</th>\n",
       "      <th>deadline</th>\n",
       "      <th>goal</th>\n",
       "      <th>launched</th>\n",
       "      <th>pledged</th>\n",
       "      <th>state</th>\n",
       "      <th>backers</th>\n",
       "      <th>country</th>\n",
       "      <th>usd pledged</th>\n",
       "      <th>usd_pledged_real</th>\n",
       "      <th>usd_goal_real</th>\n",
       "    </tr>\n",
       "  </thead>\n",
       "  <tbody>\n",
       "    <tr>\n",
       "      <td>0</td>\n",
       "      <td>1000002330</td>\n",
       "      <td>The Songs of Adelaide &amp; Abullah</td>\n",
       "      <td>Poetry</td>\n",
       "      <td>Publishing</td>\n",
       "      <td>GBP</td>\n",
       "      <td>2015-10-09</td>\n",
       "      <td>1000.0</td>\n",
       "      <td>2015-08-11 12:12:28</td>\n",
       "      <td>0.0</td>\n",
       "      <td>failed</td>\n",
       "      <td>0</td>\n",
       "      <td>GB</td>\n",
       "      <td>0.0</td>\n",
       "      <td>0.0</td>\n",
       "      <td>1533.95</td>\n",
       "    </tr>\n",
       "    <tr>\n",
       "      <td>1</td>\n",
       "      <td>1000003930</td>\n",
       "      <td>Greeting From Earth: ZGAC Arts Capsule For ET</td>\n",
       "      <td>Narrative Film</td>\n",
       "      <td>Film &amp; Video</td>\n",
       "      <td>USD</td>\n",
       "      <td>2017-11-01</td>\n",
       "      <td>30000.0</td>\n",
       "      <td>2017-09-02 04:43:57</td>\n",
       "      <td>2421.0</td>\n",
       "      <td>failed</td>\n",
       "      <td>15</td>\n",
       "      <td>US</td>\n",
       "      <td>100.0</td>\n",
       "      <td>2421.0</td>\n",
       "      <td>30000.00</td>\n",
       "    </tr>\n",
       "    <tr>\n",
       "      <td>2</td>\n",
       "      <td>1000004038</td>\n",
       "      <td>Where is Hank?</td>\n",
       "      <td>Narrative Film</td>\n",
       "      <td>Film &amp; Video</td>\n",
       "      <td>USD</td>\n",
       "      <td>2013-02-26</td>\n",
       "      <td>45000.0</td>\n",
       "      <td>2013-01-12 00:20:50</td>\n",
       "      <td>220.0</td>\n",
       "      <td>failed</td>\n",
       "      <td>3</td>\n",
       "      <td>US</td>\n",
       "      <td>220.0</td>\n",
       "      <td>220.0</td>\n",
       "      <td>45000.00</td>\n",
       "    </tr>\n",
       "    <tr>\n",
       "      <td>3</td>\n",
       "      <td>1000007540</td>\n",
       "      <td>ToshiCapital Rekordz Needs Help to Complete Album</td>\n",
       "      <td>Music</td>\n",
       "      <td>Music</td>\n",
       "      <td>USD</td>\n",
       "      <td>2012-04-16</td>\n",
       "      <td>5000.0</td>\n",
       "      <td>2012-03-17 03:24:11</td>\n",
       "      <td>1.0</td>\n",
       "      <td>failed</td>\n",
       "      <td>1</td>\n",
       "      <td>US</td>\n",
       "      <td>1.0</td>\n",
       "      <td>1.0</td>\n",
       "      <td>5000.00</td>\n",
       "    </tr>\n",
       "    <tr>\n",
       "      <td>4</td>\n",
       "      <td>1000011046</td>\n",
       "      <td>Community Film Project: The Art of Neighborhoo...</td>\n",
       "      <td>Film &amp; Video</td>\n",
       "      <td>Film &amp; Video</td>\n",
       "      <td>USD</td>\n",
       "      <td>2015-08-29</td>\n",
       "      <td>19500.0</td>\n",
       "      <td>2015-07-04 08:35:03</td>\n",
       "      <td>1283.0</td>\n",
       "      <td>canceled</td>\n",
       "      <td>14</td>\n",
       "      <td>US</td>\n",
       "      <td>1283.0</td>\n",
       "      <td>1283.0</td>\n",
       "      <td>19500.00</td>\n",
       "    </tr>\n",
       "  </tbody>\n",
       "</table>\n",
       "</div>"
      ],
      "text/plain": [
       "           ID                                               name  \\\n",
       "0  1000002330                    The Songs of Adelaide & Abullah   \n",
       "1  1000003930      Greeting From Earth: ZGAC Arts Capsule For ET   \n",
       "2  1000004038                                     Where is Hank?   \n",
       "3  1000007540  ToshiCapital Rekordz Needs Help to Complete Album   \n",
       "4  1000011046  Community Film Project: The Art of Neighborhoo...   \n",
       "\n",
       "         category main_category currency    deadline     goal  \\\n",
       "0          Poetry    Publishing      GBP  2015-10-09   1000.0   \n",
       "1  Narrative Film  Film & Video      USD  2017-11-01  30000.0   \n",
       "2  Narrative Film  Film & Video      USD  2013-02-26  45000.0   \n",
       "3           Music         Music      USD  2012-04-16   5000.0   \n",
       "4    Film & Video  Film & Video      USD  2015-08-29  19500.0   \n",
       "\n",
       "              launched  pledged     state  backers country  usd pledged  \\\n",
       "0  2015-08-11 12:12:28      0.0    failed        0      GB          0.0   \n",
       "1  2017-09-02 04:43:57   2421.0    failed       15      US        100.0   \n",
       "2  2013-01-12 00:20:50    220.0    failed        3      US        220.0   \n",
       "3  2012-03-17 03:24:11      1.0    failed        1      US          1.0   \n",
       "4  2015-07-04 08:35:03   1283.0  canceled       14      US       1283.0   \n",
       "\n",
       "   usd_pledged_real  usd_goal_real  \n",
       "0               0.0        1533.95  \n",
       "1            2421.0       30000.00  \n",
       "2             220.0       45000.00  \n",
       "3               1.0        5000.00  \n",
       "4            1283.0       19500.00  "
      ]
     },
     "execution_count": 5,
     "metadata": {},
     "output_type": "execute_result"
    }
   ],
   "source": [
    "dataTBA.head()"
   ]
  },
  {
   "cell_type": "markdown",
   "metadata": {},
   "source": [
    "Come si nota dall'anteprima, le features associate a ciascun progetto sono le seguenti:"
   ]
  },
  {
   "cell_type": "code",
   "execution_count": 6,
   "metadata": {},
   "outputs": [
    {
     "data": {
      "text/plain": [
       "ID                    int64\n",
       "name                 object\n",
       "category             object\n",
       "main_category        object\n",
       "currency             object\n",
       "deadline             object\n",
       "goal                float64\n",
       "launched             object\n",
       "pledged             float64\n",
       "state                object\n",
       "backers               int64\n",
       "country              object\n",
       "usd pledged         float64\n",
       "usd_pledged_real    float64\n",
       "usd_goal_real       float64\n",
       "dtype: object"
      ]
     },
     "execution_count": 6,
     "metadata": {},
     "output_type": "execute_result"
    }
   ],
   "source": [
    "dataTBA.dtypes"
   ]
  },
  {
   "cell_type": "markdown",
   "metadata": {},
   "source": [
    "1. **ID** = codice identificativo del progetto all'interno del dataset\n",
    "2. **name** = nome del progetto\n",
    "3. **category** = sottocategoria/settore del progetto\n",
    "4. **main_category** = macrocategoria/settore del progetto\n",
    "5. **currency** = valuta in cui è denominato il target di raccolta del progetto\n",
    "6. **deadline** = data di fine della campagna di crowdfunding\n",
    "7. **goal** = target di raccolta del progetto\n",
    "8. **launched** = data di lancio della campagna di crowdfunding\n",
    "9. **pledged** = ammontare della raccolta durante la campagna di crowdfunding\n",
    "10. **state** = esito della campagna di crowdfunding\n",
    "11. **backers** = numero di finanziatori del progetto\n",
    "12. **country** = paese in cui è stato lanciato il progetto\n",
    "13. **usd pledged** = ammontare di raccolta dei progetti originariamente denominati in dollari\n",
    "14. **usd_pledged_real** = ammontare di raccolta dei progetti convertiti in dollari (dove necessario)\n",
    "\n",
    "Per ciascuno di questi campi, osserviamo quanti record presentano valori mancanti:"
   ]
  },
  {
   "cell_type": "code",
   "execution_count": 7,
   "metadata": {},
   "outputs": [
    {
     "data": {
      "text/plain": [
       "ID                     0\n",
       "name                   4\n",
       "category               0\n",
       "main_category          0\n",
       "currency               0\n",
       "deadline               0\n",
       "goal                   0\n",
       "launched               0\n",
       "pledged                0\n",
       "state                  0\n",
       "backers                0\n",
       "country                0\n",
       "usd pledged         3797\n",
       "usd_pledged_real       0\n",
       "usd_goal_real          0\n",
       "dtype: int64"
      ]
     },
     "execution_count": 7,
     "metadata": {},
     "output_type": "execute_result"
    }
   ],
   "source": [
    "dataTBA.isnull().sum()"
   ]
  },
  {
   "cell_type": "markdown",
   "metadata": {},
   "source": [
    "Possiamo ritenerci piuttosto fortunati per quanto riguarda la gestione dei missing values: solo 4 progetti in totale non presentano un nome, mentre per quasi 4000 di essi non è indicato il valore nel campo *usd_pledged*, dato che non tutti i target di raccolta (Goal) sono denominati in dollari. Tuttavia, per ogni progetto contenuto nel dataset è presente il campo *usd_pledged_real*, convertito in dollari dalla local currency dove necessario.\n",
    "\n",
    "A questo punto è utile indagare sui valori assunti da alcune delle principali features che verranno usate come input per addestrare i modelli di classificazione. Poiché l'obiettivo del progetto è valutare l'esito delle campagne di crowdfunding, osserviamo come sono distribuiti i valori presenti all'interno della colonna \"state\""
   ]
  },
  {
   "cell_type": "code",
   "execution_count": 8,
   "metadata": {},
   "outputs": [
    {
     "data": {
      "text/plain": [
       "failed        0.522153\n",
       "successful    0.353762\n",
       "canceled      0.102411\n",
       "undefined     0.009407\n",
       "live          0.007392\n",
       "suspended     0.004875\n",
       "Name: state, dtype: float64"
      ]
     },
     "execution_count": 8,
     "metadata": {},
     "output_type": "execute_result"
    }
   ],
   "source": [
    "dataTBA['state'].value_counts()/dataTBA['state'].count()"
   ]
  },
  {
   "cell_type": "markdown",
   "metadata": {},
   "source": [
    "e plottiamo con un grafico a barre i valori"
   ]
  },
  {
   "cell_type": "code",
   "execution_count": 9,
   "metadata": {},
   "outputs": [
    {
     "data": {
      "text/plain": [
       "<matplotlib.axes._subplots.AxesSubplot at 0x1c2f17872e8>"
      ]
     },
     "execution_count": 9,
     "metadata": {},
     "output_type": "execute_result"
    },
    {
     "data": {
      "image/png": "[encoded data removed]",
      "text/plain": [
       "<Figure size 432x288 with 1 Axes>"
      ]
     },
     "metadata": {
      "needs_background": "light"
     },
     "output_type": "display_data"
    }
   ],
   "source": [
    "(dataTBA['state'].value_counts()/dataTBA['state'].count()).plot.bar()"
   ]
  },
  {
   "cell_type": "markdown",
   "metadata": {},
   "source": [
    "Il 52% dei progetti ha fallito nel raggiungimento del target di raccolta (*Failed*), circa il 35% è riuscito nell'intento (*Successful*), mentre il 10% di essi è stato rimosso preventivamente dai creatori (*Canceled*). Il resto si divide tra progetti dall'esito indefinito (*Undefined*), in corso (*Live*) e sospesi per violazione del regolamento della piattaforma Kickstarter (*Suspended*). Come si vedrà anche nella parte di costruzione del dataset per il training dei modelli, per l'esperimento ci si concentrerà esclusivamente sui progetti che hanno riportato esiti *Successful* e *Failed*.\n",
    "\n",
    "Un'altra feature interessante del dataset è la valuta (*currency*) di denominazione del target di raccolta (*Goal*)."
   ]
  },
  {
   "cell_type": "code",
   "execution_count": 10,
   "metadata": {},
   "outputs": [
    {
     "data": {
      "text/plain": [
       "USD    0.780025\n",
       "GBP    0.090139\n",
       "EUR    0.045965\n",
       "CAD    0.039513\n",
       "AUD    0.020995\n",
       "SEK    0.004722\n",
       "MXN    0.004627\n",
       "NZD    0.003895\n",
       "DKK    0.002982\n",
       "CHF    0.002028\n",
       "NOK    0.001907\n",
       "HKD    0.001632\n",
       "SGD    0.001466\n",
       "JPY    0.000106\n",
       "Name: currency, dtype: float64"
      ]
     },
     "execution_count": 10,
     "metadata": {},
     "output_type": "execute_result"
    }
   ],
   "source": [
    "dataTBA['currency'].value_counts()/dataTBA['currency'].count()"
   ]
  },
  {
   "cell_type": "code",
   "execution_count": 11,
   "metadata": {},
   "outputs": [
    {
     "data": {
      "text/plain": [
       "<matplotlib.axes._subplots.AxesSubplot at 0x1c2f1853b70>"
      ]
     },
     "execution_count": 11,
     "metadata": {},
     "output_type": "execute_result"
    },
    {
     "data": {
      "image/png": "[encoded data removed]",
      "text/plain": [
       "<Figure size 432x288 with 1 Axes>"
      ]
     },
     "metadata": {
      "needs_background": "light"
     },
     "output_type": "display_data"
    }
   ],
   "source": [
    "(dataTBA['currency'].value_counts()/dataTBA['currency'].count()).plot.bar()"
   ]
  },
  {
   "cell_type": "markdown",
   "metadata": {},
   "source": [
    "Quasi l'80% dei progetti del dataset presenta un obiettivo espresso in dollari statunitensi (USD), e più del 95% dei *Goal* è espresso tra dollari USA (USD), sterline (GBP), euro (EUR), dollari canadesi (CAD) e dollari australiani (AUD).\n",
    "\n",
    "Di seguito, invece, il conteggio dei progetti divisi per ciascuna macro-categoria (*main_category*):"
   ]
  },
  {
   "cell_type": "code",
   "execution_count": 12,
   "metadata": {},
   "outputs": [
    {
     "data": {
      "text/plain": [
       "Film & Video    63585\n",
       "Music           51918\n",
       "Publishing      39874\n",
       "Games           35231\n",
       "Technology      32569\n",
       "Design          30070\n",
       "Art             28153\n",
       "Food            24602\n",
       "Fashion         22816\n",
       "Theater         10913\n",
       "Comics          10819\n",
       "Photography     10779\n",
       "Crafts           8809\n",
       "Journalism       4755\n",
       "Dance            3768\n",
       "Name: main_category, dtype: int64"
      ]
     },
     "execution_count": 12,
     "metadata": {},
     "output_type": "execute_result"
    }
   ],
   "source": [
    "dataTBA['main_category'].value_counts()"
   ]
  },
  {
   "cell_type": "code",
   "execution_count": 13,
   "metadata": {},
   "outputs": [
    {
     "data": {
      "text/plain": [
       "<matplotlib.axes._subplots.AxesSubplot at 0x1c2f180e390>"
      ]
     },
     "execution_count": 13,
     "metadata": {},
     "output_type": "execute_result"
    },
    {
     "data": {
      "image/png": "[encoded data removed]",
      "text/plain": [
       "<Figure size 432x288 with 1 Axes>"
      ]
     },
     "metadata": {
      "needs_background": "light"
     },
     "output_type": "display_data"
    }
   ],
   "source": [
    "dataTBA['main_category'].value_counts().plot.bar()"
   ]
  },
  {
   "cell_type": "markdown",
   "metadata": {},
   "source": [
    "All'interno delle 15 *main_category* presenti nel dataset, osserviamo ora la proporzione tra progetti che hanno raggiunto l'obiettivo di raccolta prefissato (*Successful*) e quanti invece hanno fallito (*Failed*)."
   ]
  },
  {
   "cell_type": "code",
   "execution_count": 14,
   "metadata": {},
   "outputs": [
    {
     "name": "stdout",
     "output_type": "stream",
     "text": [
      "state          successful   failed  highSuccess\n",
      "main_category                                  \n",
      "Art               11510.0  14131.0            0\n",
      "Comics             5842.0   4036.0            1\n",
      "Crafts             2115.0   5703.0            0\n",
      "Dance              2338.0   1235.0            1\n",
      "Design            10550.0  14814.0            0\n",
      "Fashion            5593.0  14182.0            0\n",
      "Film & Video      23623.0  32904.0            0\n",
      "Food               6085.0  15969.0            0\n",
      "Games             12518.0  16003.0            0\n",
      "Journalism         1012.0   3137.0            0\n",
      "Music             24197.0  21752.0            1\n",
      "Photography        3305.0   6384.0            0\n",
      "Publishing        12300.0  23145.0            0\n",
      "Technology         6434.0  20616.0            0\n",
      "Theater            6534.0   3708.0            1\n",
      "\n",
      "In 4 main_category su 15 il numero di progetti che hanno raggiunto il Goal è superiore rispetto a quelli che non lo hanno raggiunto\n"
     ]
    },
    {
     "data": {
      "image/png": "[encoded data removed]",
      "text/plain": [
       "<Figure size 432x288 with 1 Axes>"
      ]
     },
     "metadata": {
      "needs_background": "light"
     },
     "output_type": "display_data"
    }
   ],
   "source": [
    "# creo la tabella pivot che ha come righe le main_category e come colonne i possibili esiti (state) dei progetti\n",
    "stateByMainCat = dataTBA.pivot_table(index = 'main_category', columns = dataTBA.state, values = 'state', aggfunc = 'count')\n",
    "\n",
    "# creo una colonna nella quale inserisco 1 se il numero di progetti di successo è maggiore di quelli falliti, altrimenti 0\n",
    "stateByMainCat['highSuccess'] = np.where(stateByMainCat['successful'] > stateByMainCat['failed'], 1, 0)\n",
    "\n",
    "# seleziono e stampo le colonne sui progetti con esiti successful e failed, trascurando quelli con altri esiti\n",
    "print(stateByMainCat.loc[:, ['successful', 'failed', 'highSuccess']])\n",
    "\n",
    "# plotto i risultati\n",
    "stateByMainCat.loc[:, ['successful', 'failed']].plot.bar()\n",
    "\n",
    "print('\\nIn', stateByMainCat['highSuccess'].sum(), 'main_category su', stateByMainCat['highSuccess'].count(), \n",
    "      'il numero di progetti che hanno raggiunto il Goal è superiore rispetto a quelli che non lo hanno raggiunto')"
   ]
  },
  {
   "cell_type": "markdown",
   "metadata": {},
   "source": [
    "In tutti i progetti presenti nel dataset, solo nelle *main_category* Comics, Dance, Music e Theater il numero di progetti che hanno raggiunto il Goal è superiore a quello dei progetti che non lo hanno raggiunto.\n",
    "\n",
    "A questo punto, ci concentriamo sulla distribuzione dei *Goal* dei vari progetti contenuti nel dataset, plottando l'istrogramma dei valori contenuti nella feature \"usd_goal_real\":"
   ]
  },
  {
   "cell_type": "code",
   "execution_count": 15,
   "metadata": {},
   "outputs": [
    {
     "data": {
      "text/plain": [
       "<matplotlib.axes._subplots.AxesSubplot at 0x1c2f691df98>"
      ]
     },
     "execution_count": 15,
     "metadata": {},
     "output_type": "execute_result"
    },
    {
     "data": {
      "image/png": "[encoded data removed]",
      "text/plain": [
       "<Figure size 432x288 with 1 Axes>"
      ]
     },
     "metadata": {
      "needs_background": "light"
     },
     "output_type": "display_data"
    }
   ],
   "source": [
    "#dataTBA['usd_goal_real'].plot.hist()\n",
    "sns.distplot(dataTBA['usd_goal_real'], kde = False)"
   ]
  },
  {
   "cell_type": "markdown",
   "metadata": {},
   "source": [
    "La distribuzione dei *Goal* presenta un'asimmetria fortemente positiva: quasi la totalità dei progetti ha un valore di *Goal* compreso tra 0 e 250.000 USD, con la presenza di alcuni outliers come si vede dal Box & Whisker qui sotto"
   ]
  },
  {
   "cell_type": "code",
   "execution_count": 16,
   "metadata": {},
   "outputs": [
    {
     "data": {
      "text/plain": [
       "{'whiskers': [<matplotlib.lines.Line2D at 0x1c2f962a0f0>,\n",
       "  <matplotlib.lines.Line2D at 0x1c2f962a4a8>],\n",
       " 'caps': [<matplotlib.lines.Line2D at 0x1c2f962a7f0>,\n",
       "  <matplotlib.lines.Line2D at 0x1c2f962ab38>],\n",
       " 'boxes': [<matplotlib.lines.Line2D at 0x1c2f6a49c18>],\n",
       " 'medians': [<matplotlib.lines.Line2D at 0x1c2f962ae80>],\n",
       " 'fliers': [<matplotlib.lines.Line2D at 0x1c2f9633208>],\n",
       " 'means': []}"
      ]
     },
     "execution_count": 16,
     "metadata": {},
     "output_type": "execute_result"
    },
    {
     "data": {
      "image/png": "[encoded data removed]",
      "text/plain": [
       "<Figure size 432x288 with 1 Axes>"
      ]
     },
     "metadata": {
      "needs_background": "light"
     },
     "output_type": "display_data"
    }
   ],
   "source": [
    "plt.boxplot(dataTBA['usd_goal_real'])"
   ]
  },
  {
   "cell_type": "markdown",
   "metadata": {},
   "source": [
    "Per migliorare leggermente la visualizzazione dei dati, effettuo gli stessi plot filtrando i progetti con un *Goal* inferiore a 100.000 USD"
   ]
  },
  {
   "cell_type": "code",
   "execution_count": 17,
   "metadata": {},
   "outputs": [
    {
     "data": {
      "text/plain": [
       "<matplotlib.axes._subplots.AxesSubplot at 0x1c2f9658160>"
      ]
     },
     "execution_count": 17,
     "metadata": {},
     "output_type": "execute_result"
    },
    {
     "data": {
      "image/png": "[encoded data removed]",
      "text/plain": [
       "<Figure size 432x288 with 1 Axes>"
      ]
     },
     "metadata": {
      "needs_background": "light"
     },
     "output_type": "display_data"
    }
   ],
   "source": [
    "sns.distplot(dataTBA[dataTBA['usd_goal_real'] < 100000]['usd_goal_real'], kde = False)"
   ]
  },
  {
   "cell_type": "code",
   "execution_count": 18,
   "metadata": {},
   "outputs": [
    {
     "data": {
      "text/plain": [
       "{'whiskers': [<matplotlib.lines.Line2D at 0x1c2fc4f6f98>,\n",
       "  <matplotlib.lines.Line2D at 0x1c2fc503390>],\n",
       " 'caps': [<matplotlib.lines.Line2D at 0x1c2fc5036d8>,\n",
       "  <matplotlib.lines.Line2D at 0x1c2fc503a20>],\n",
       " 'boxes': [<matplotlib.lines.Line2D at 0x1c2fc4f6e48>],\n",
       " 'medians': [<matplotlib.lines.Line2D at 0x1c2fc503d68>],\n",
       " 'fliers': [<matplotlib.lines.Line2D at 0x1c2fc50d0f0>],\n",
       " 'means': []}"
      ]
     },
     "execution_count": 18,
     "metadata": {},
     "output_type": "execute_result"
    },
    {
     "data": {
      "image/png": "[encoded data removed]",
      "text/plain": [
       "<Figure size 432x288 with 1 Axes>"
      ]
     },
     "metadata": {
      "needs_background": "light"
     },
     "output_type": "display_data"
    }
   ],
   "source": [
    "plt.boxplot(dataTBA[dataTBA['usd_goal_real'] < 100000]['usd_goal_real'])"
   ]
  },
  {
   "cell_type": "markdown",
   "metadata": {},
   "source": [
    "A questo punto calcolo il target di raccolta medio per ciascuna *main_category*, un'altra feature che sarà inclusa nel training dei modelli di classificazione:"
   ]
  },
  {
   "cell_type": "code",
   "execution_count": 19,
   "metadata": {},
   "outputs": [
    {
     "data": {
      "text/html": [
       "<div>\n",
       "<style scoped>\n",
       "    .dataframe tbody tr th:only-of-type {\n",
       "        vertical-align: middle;\n",
       "    }\n",
       "\n",
       "    .dataframe tbody tr th {\n",
       "        vertical-align: top;\n",
       "    }\n",
       "\n",
       "    .dataframe thead th {\n",
       "        text-align: right;\n",
       "    }\n",
       "</style>\n",
       "<table border=\"1\" class=\"dataframe\">\n",
       "  <thead>\n",
       "    <tr style=\"text-align: right;\">\n",
       "      <th></th>\n",
       "      <th>Mean Goal</th>\n",
       "    </tr>\n",
       "    <tr>\n",
       "      <th>main_category</th>\n",
       "      <th></th>\n",
       "    </tr>\n",
       "  </thead>\n",
       "  <tbody>\n",
       "    <tr>\n",
       "      <td>Art</td>\n",
       "      <td>39198.575879</td>\n",
       "    </tr>\n",
       "    <tr>\n",
       "      <td>Comics</td>\n",
       "      <td>19571.430669</td>\n",
       "    </tr>\n",
       "    <tr>\n",
       "      <td>Crafts</td>\n",
       "      <td>10434.466228</td>\n",
       "    </tr>\n",
       "    <tr>\n",
       "      <td>Dance</td>\n",
       "      <td>9588.328548</td>\n",
       "    </tr>\n",
       "    <tr>\n",
       "      <td>Design</td>\n",
       "      <td>41871.388591</td>\n",
       "    </tr>\n",
       "    <tr>\n",
       "      <td>Fashion</td>\n",
       "      <td>22412.409361</td>\n",
       "    </tr>\n",
       "    <tr>\n",
       "      <td>Film &amp; Video</td>\n",
       "      <td>82625.292254</td>\n",
       "    </tr>\n",
       "    <tr>\n",
       "      <td>Food</td>\n",
       "      <td>49039.620804</td>\n",
       "    </tr>\n",
       "    <tr>\n",
       "      <td>Games</td>\n",
       "      <td>44923.741408</td>\n",
       "    </tr>\n",
       "    <tr>\n",
       "      <td>Journalism</td>\n",
       "      <td>86003.395014</td>\n",
       "    </tr>\n",
       "    <tr>\n",
       "      <td>Music</td>\n",
       "      <td>15372.161844</td>\n",
       "    </tr>\n",
       "    <tr>\n",
       "      <td>Photography</td>\n",
       "      <td>12266.843699</td>\n",
       "    </tr>\n",
       "    <tr>\n",
       "      <td>Publishing</td>\n",
       "      <td>24798.240254</td>\n",
       "    </tr>\n",
       "    <tr>\n",
       "      <td>Technology</td>\n",
       "      <td>102288.542839</td>\n",
       "    </tr>\n",
       "    <tr>\n",
       "      <td>Theater</td>\n",
       "      <td>27088.321275</td>\n",
       "    </tr>\n",
       "  </tbody>\n",
       "</table>\n",
       "</div>"
      ],
      "text/plain": [
       "                   Mean Goal\n",
       "main_category               \n",
       "Art             39198.575879\n",
       "Comics          19571.430669\n",
       "Crafts          10434.466228\n",
       "Dance            9588.328548\n",
       "Design          41871.388591\n",
       "Fashion         22412.409361\n",
       "Film & Video    82625.292254\n",
       "Food            49039.620804\n",
       "Games           44923.741408\n",
       "Journalism      86003.395014\n",
       "Music           15372.161844\n",
       "Photography     12266.843699\n",
       "Publishing      24798.240254\n",
       "Technology     102288.542839\n",
       "Theater         27088.321275"
      ]
     },
     "execution_count": 19,
     "metadata": {},
     "output_type": "execute_result"
    }
   ],
   "source": [
    "meanGoalByMainCat = pd.DataFrame(dataTBA.groupby('main_category')['usd_goal_real'].mean())\n",
    "meanGoalByMainCat.columns = ['Mean Goal']\n",
    "meanGoalByMainCat"
   ]
  },
  {
   "cell_type": "code",
   "execution_count": 20,
   "metadata": {},
   "outputs": [
    {
     "data": {
      "text/plain": [
       "<matplotlib.axes._subplots.AxesSubplot at 0x1c2fc52e7f0>"
      ]
     },
     "execution_count": 20,
     "metadata": {},
     "output_type": "execute_result"
    },
    {
     "data": {
      "image/png": "[encoded data removed]",
      "text/plain": [
       "<Figure size 432x288 with 1 Axes>"
      ]
     },
     "metadata": {
      "needs_background": "light"
     },
     "output_type": "display_data"
    }
   ],
   "source": [
    " meanGoalByMainCat.plot.bar()"
   ]
  },
  {
   "cell_type": "markdown",
   "metadata": {},
   "source": [
    "Infine, ci concentriamo sulla durata delle campagne di crowdfunding che, per ogni progetto, equivale alla differenza tra le feature *Deadline* e *Launched*. Per il calcolo, converto in formato datetime le due features, eseguo la differenza e, tramite la manipolazione di stringhe, ricavo la durata in giorni."
   ]
  },
  {
   "cell_type": "code",
   "execution_count": 21,
   "metadata": {},
   "outputs": [
    {
     "data": {
      "text/plain": [
       "{'whiskers': [<matplotlib.lines.Line2D at 0x1c2f68f5198>,\n",
       "  <matplotlib.lines.Line2D at 0x1c2f68f5908>],\n",
       " 'caps': [<matplotlib.lines.Line2D at 0x1c2f19a1ac8>,\n",
       "  <matplotlib.lines.Line2D at 0x1c2f69046d8>],\n",
       " 'boxes': [<matplotlib.lines.Line2D at 0x1c2f68f5e48>],\n",
       " 'medians': [<matplotlib.lines.Line2D at 0x1c2f6904f60>],\n",
       " 'fliers': [<matplotlib.lines.Line2D at 0x1c2f69047b8>],\n",
       " 'means': []}"
      ]
     },
     "execution_count": 21,
     "metadata": {},
     "output_type": "execute_result"
    },
    {
     "data": {
      "image/png": "[encoded data removed]",
      "text/plain": [
       "<Figure size 432x288 with 1 Axes>"
      ]
     },
     "metadata": {
      "needs_background": "light"
     },
     "output_type": "display_data"
    }
   ],
   "source": [
    "# converto le features in formato datetime\n",
    "dataTBA['dtLaunched'] = pd.to_datetime(dataTBA.launched)          \n",
    "dataTBA['dtDeadline'] = pd.to_datetime(dataTBA.deadline)\n",
    "\n",
    "# calcolo la lunghezza della campagna di crowdfunding in formato datetime\n",
    "dataTBA['cfLen'] = dataTBA['dtDeadline'] - dataTBA['dtLaunched']\n",
    "\n",
    "# ricavo la lunghezza della campagna in giorni eseguendo lo split della stringa\n",
    "dataTBA['cfLen'] = dataTBA['cfLen'].apply(lambda rowConv: int(str(rowConv).split()[0]))\n",
    "\n",
    "#plotto il Box & Whisker delle durate dei giorni\n",
    "plt.boxplot(dataTBA['cfLen'])"
   ]
  },
  {
   "cell_type": "markdown",
   "metadata": {},
   "source": [
    "Il grafico suggerisce la presenza di alcuni outliers, con una durata della campagna di crowdfunding di oltre 12000 giorni (più di 32 anni!). Eseguo nuovamente il plot fissando una soglia massima arbitraria di 1000 giorni:"
   ]
  },
  {
   "cell_type": "code",
   "execution_count": 22,
   "metadata": {},
   "outputs": [
    {
     "data": {
      "text/plain": [
       "{'whiskers': [<matplotlib.lines.Line2D at 0x1c2f19fc320>,\n",
       "  <matplotlib.lines.Line2D at 0x1c2f19fc6d8>],\n",
       " 'caps': [<matplotlib.lines.Line2D at 0x1c2f19fca20>,\n",
       "  <matplotlib.lines.Line2D at 0x1c2f19fcd68>],\n",
       " 'boxes': [<matplotlib.lines.Line2D at 0x1c2f19fc1d0>],\n",
       " 'medians': [<matplotlib.lines.Line2D at 0x1c2f19ea0f0>],\n",
       " 'fliers': [<matplotlib.lines.Line2D at 0x1c2f19ea438>],\n",
       " 'means': []}"
      ]
     },
     "execution_count": 22,
     "metadata": {},
     "output_type": "execute_result"
    },
    {
     "data": {
      "image/png": "[encoded data removed]",
      "text/plain": [
       "<Figure size 432x288 with 1 Axes>"
      ]
     },
     "metadata": {
      "needs_background": "light"
     },
     "output_type": "display_data"
    }
   ],
   "source": [
    "plt.boxplot(dataTBA[dataTBA['cfLen'] < 1000]['cfLen'])"
   ]
  },
  {
   "cell_type": "code",
   "execution_count": 23,
   "metadata": {},
   "outputs": [
    {
     "data": {
      "text/plain": [
       "<matplotlib.axes._subplots.AxesSubplot at 0x1c2fc4c96d8>"
      ]
     },
     "execution_count": 23,
     "metadata": {},
     "output_type": "execute_result"
    },
    {
     "data": {
      "image/png": "[encoded data removed]",
      "text/plain": [
       "<Figure size 432x288 with 1 Axes>"
      ]
     },
     "metadata": {
      "needs_background": "light"
     },
     "output_type": "display_data"
    }
   ],
   "source": [
    "sns.distplot(dataTBA[dataTBA['cfLen'] < 1000]['cfLen'], kde = False, bins = 10)"
   ]
  },
  {
   "cell_type": "markdown",
   "metadata": {},
   "source": [
    "<a id='section4'></a>\n",
    "### 4. Costruzione del dataset per i modelli di Machine Learning"
   ]
  },
  {
   "cell_type": "markdown",
   "metadata": {},
   "source": [
    "Dopo aver esaminato alcune delle principali feature che compongono il dataset originario, in questa sezione si andrà a costruire un nuovo dataset contenente delle features \"derivate\" che saranno prese in input dai modelli di classificazione supervisionati.\n",
    "\n",
    "Per fare ciò, mi domando quali possano essere dei possibili fattori esplicativi dell'esito di un progetto e ricavo dal dataset i relativi valori che utilizzerò nel capitolo successivo per addestrare i modelli:\n",
    "\n",
    "* 1) la durata della campagna di crowdfunding influenza l'esito del progetto? --> tramite le colonne *launched* e *deadline* ricavo la durata della campagna di crowdfunding espressa in giorni;\n",
    "* 2) il periodo di lancio influenza l'esito del progetto? --> dalla colonna *launched* ricavo:\n",
    "    * mese di lancio;\n",
    "    * settimana di lancio;\n",
    "    * giorno della settimana di lancio;\n",
    "    * eventuale lancio durante un weekend;\n",
    "* 3) l'appartenenza ad una macro-categoria influenza l'esito del progetto? --> tramite la colonna *main_category* ricavo:\n",
    "    * *goal* medio all'interno della macro-categoria;\n",
    "    * numero di progetti lanciati nella macro-categoria;\n",
    "    * deviazione del *goal* del progetto dalla media della macro-categoria;\n",
    "* 4) l'appartenenza ad una sotto-categoria influenza l'esito del progetto? --> tramite la colonna *category* ricavo:\n",
    "    * *goal* medio all'interno della sotto-categoria;\n",
    "    * numero di progetti lanciati nella sotto-categoria;\n",
    "    * deviazione del *goal* del progetto dalla media della sotto-categoria;\n",
    "* 5) la composizione del nome del progetto influenza l'esito del progetto? --> dalla colonna *name* ricavo il numero di parole che compongono il nome del progetto\n",
    "    \n",
    "Ipotizzate le potenziali caratteristiche \"chiave\" di un progetto, costruisco il dataset per il training e i test dei modelli, applicando inizialmente due filtri al dataframe **dataML**. Il primo filtro consiste nella selezione dei soli progetti caratterizzati dalle label *successful* e *failed* all'interno della colonna *state*, così da rimuovere dal dataset quei record che presentano un esito \"intermedio\"; il secondo filtro riguarda l'eliminazione degli outliers con una durata anomala della campagna di crowdfunding, già rilevati al termine del capitolo precedente."
   ]
  },
  {
   "cell_type": "code",
   "execution_count": 55,
   "metadata": {},
   "outputs": [],
   "source": [
    "dataML = dataset.copy()\n",
    "\n",
    "# filtro i progetti riusciti e falliti sulla base della colonna \"state\" del dataset\n",
    "dataML = dataML[dataML.state.isin(['successful', 'failed'])]\n",
    "\n",
    "# calcolo la durata della campagna di crowdfunding di ciascun progetto come nel capitolo precedente\n",
    "dataML['dtLaunched'] = pd.to_datetime(dataML.launched)          \n",
    "dataML['dtDeadline'] = pd.to_datetime(dataML.deadline)\n",
    "\n",
    "dataML['cfLen'] = dataML['dtDeadline'] - dataML['dtLaunched'] # lunghezza della campagna di crowdfunding in formato datetime\n",
    "dataML['cfLen'] = dataML['cfLen'].apply(lambda rowConv: int(str(rowConv).split()[0])) # lunghezza della campagna in giorni\n",
    "\n",
    "# rimuovo gli outlier sulla base della durata del crowdfunding\n",
    "dataML = dataML[dataML['cfLen'] < 1000]"
   ]
  },
  {
   "cell_type": "markdown",
   "metadata": {},
   "source": [
    "Dopo i primi due filtri sui dati, il dataset appare in questo modo"
   ]
  },
  {
   "cell_type": "code",
   "execution_count": 56,
   "metadata": {},
   "outputs": [
    {
     "data": {
      "text/html": [
       "<div>\n",
       "<style scoped>\n",
       "    .dataframe tbody tr th:only-of-type {\n",
       "        vertical-align: middle;\n",
       "    }\n",
       "\n",
       "    .dataframe tbody tr th {\n",
       "        vertical-align: top;\n",
       "    }\n",
       "\n",
       "    .dataframe thead th {\n",
       "        text-align: right;\n",
       "    }\n",
       "</style>\n",
       "<table border=\"1\" class=\"dataframe\">\n",
       "  <thead>\n",
       "    <tr style=\"text-align: right;\">\n",
       "      <th></th>\n",
       "      <th>ID</th>\n",
       "      <th>name</th>\n",
       "      <th>category</th>\n",
       "      <th>main_category</th>\n",
       "      <th>currency</th>\n",
       "      <th>deadline</th>\n",
       "      <th>goal</th>\n",
       "      <th>launched</th>\n",
       "      <th>pledged</th>\n",
       "      <th>state</th>\n",
       "      <th>backers</th>\n",
       "      <th>country</th>\n",
       "      <th>usd pledged</th>\n",
       "      <th>usd_pledged_real</th>\n",
       "      <th>usd_goal_real</th>\n",
       "      <th>dtLaunched</th>\n",
       "      <th>dtDeadline</th>\n",
       "      <th>cfLen</th>\n",
       "    </tr>\n",
       "  </thead>\n",
       "  <tbody>\n",
       "    <tr>\n",
       "      <td>0</td>\n",
       "      <td>1000002330</td>\n",
       "      <td>The Songs of Adelaide &amp; Abullah</td>\n",
       "      <td>Poetry</td>\n",
       "      <td>Publishing</td>\n",
       "      <td>GBP</td>\n",
       "      <td>2015-10-09</td>\n",
       "      <td>1000.0</td>\n",
       "      <td>2015-08-11 12:12:28</td>\n",
       "      <td>0.0</td>\n",
       "      <td>failed</td>\n",
       "      <td>0</td>\n",
       "      <td>GB</td>\n",
       "      <td>0.0</td>\n",
       "      <td>0.0</td>\n",
       "      <td>1533.95</td>\n",
       "      <td>2015-08-11 12:12:28</td>\n",
       "      <td>2015-10-09</td>\n",
       "      <td>58</td>\n",
       "    </tr>\n",
       "    <tr>\n",
       "      <td>1</td>\n",
       "      <td>1000003930</td>\n",
       "      <td>Greeting From Earth: ZGAC Arts Capsule For ET</td>\n",
       "      <td>Narrative Film</td>\n",
       "      <td>Film &amp; Video</td>\n",
       "      <td>USD</td>\n",
       "      <td>2017-11-01</td>\n",
       "      <td>30000.0</td>\n",
       "      <td>2017-09-02 04:43:57</td>\n",
       "      <td>2421.0</td>\n",
       "      <td>failed</td>\n",
       "      <td>15</td>\n",
       "      <td>US</td>\n",
       "      <td>100.0</td>\n",
       "      <td>2421.0</td>\n",
       "      <td>30000.00</td>\n",
       "      <td>2017-09-02 04:43:57</td>\n",
       "      <td>2017-11-01</td>\n",
       "      <td>59</td>\n",
       "    </tr>\n",
       "    <tr>\n",
       "      <td>2</td>\n",
       "      <td>1000004038</td>\n",
       "      <td>Where is Hank?</td>\n",
       "      <td>Narrative Film</td>\n",
       "      <td>Film &amp; Video</td>\n",
       "      <td>USD</td>\n",
       "      <td>2013-02-26</td>\n",
       "      <td>45000.0</td>\n",
       "      <td>2013-01-12 00:20:50</td>\n",
       "      <td>220.0</td>\n",
       "      <td>failed</td>\n",
       "      <td>3</td>\n",
       "      <td>US</td>\n",
       "      <td>220.0</td>\n",
       "      <td>220.0</td>\n",
       "      <td>45000.00</td>\n",
       "      <td>2013-01-12 00:20:50</td>\n",
       "      <td>2013-02-26</td>\n",
       "      <td>44</td>\n",
       "    </tr>\n",
       "    <tr>\n",
       "      <td>3</td>\n",
       "      <td>1000007540</td>\n",
       "      <td>ToshiCapital Rekordz Needs Help to Complete Album</td>\n",
       "      <td>Music</td>\n",
       "      <td>Music</td>\n",
       "      <td>USD</td>\n",
       "      <td>2012-04-16</td>\n",
       "      <td>5000.0</td>\n",
       "      <td>2012-03-17 03:24:11</td>\n",
       "      <td>1.0</td>\n",
       "      <td>failed</td>\n",
       "      <td>1</td>\n",
       "      <td>US</td>\n",
       "      <td>1.0</td>\n",
       "      <td>1.0</td>\n",
       "      <td>5000.00</td>\n",
       "      <td>2012-03-17 03:24:11</td>\n",
       "      <td>2012-04-16</td>\n",
       "      <td>29</td>\n",
       "    </tr>\n",
       "    <tr>\n",
       "      <td>5</td>\n",
       "      <td>1000014025</td>\n",
       "      <td>Monarch Espresso Bar</td>\n",
       "      <td>Restaurants</td>\n",
       "      <td>Food</td>\n",
       "      <td>USD</td>\n",
       "      <td>2016-04-01</td>\n",
       "      <td>50000.0</td>\n",
       "      <td>2016-02-26 13:38:27</td>\n",
       "      <td>52375.0</td>\n",
       "      <td>successful</td>\n",
       "      <td>224</td>\n",
       "      <td>US</td>\n",
       "      <td>52375.0</td>\n",
       "      <td>52375.0</td>\n",
       "      <td>50000.00</td>\n",
       "      <td>2016-02-26 13:38:27</td>\n",
       "      <td>2016-04-01</td>\n",
       "      <td>34</td>\n",
       "    </tr>\n",
       "  </tbody>\n",
       "</table>\n",
       "</div>"
      ],
      "text/plain": [
       "           ID                                               name  \\\n",
       "0  1000002330                    The Songs of Adelaide & Abullah   \n",
       "1  1000003930      Greeting From Earth: ZGAC Arts Capsule For ET   \n",
       "2  1000004038                                     Where is Hank?   \n",
       "3  1000007540  ToshiCapital Rekordz Needs Help to Complete Album   \n",
       "5  1000014025                               Monarch Espresso Bar   \n",
       "\n",
       "         category main_category currency    deadline     goal  \\\n",
       "0          Poetry    Publishing      GBP  2015-10-09   1000.0   \n",
       "1  Narrative Film  Film & Video      USD  2017-11-01  30000.0   \n",
       "2  Narrative Film  Film & Video      USD  2013-02-26  45000.0   \n",
       "3           Music         Music      USD  2012-04-16   5000.0   \n",
       "5     Restaurants          Food      USD  2016-04-01  50000.0   \n",
       "\n",
       "              launched  pledged       state  backers country  usd pledged  \\\n",
       "0  2015-08-11 12:12:28      0.0      failed        0      GB          0.0   \n",
       "1  2017-09-02 04:43:57   2421.0      failed       15      US        100.0   \n",
       "2  2013-01-12 00:20:50    220.0      failed        3      US        220.0   \n",
       "3  2012-03-17 03:24:11      1.0      failed        1      US          1.0   \n",
       "5  2016-02-26 13:38:27  52375.0  successful      224      US      52375.0   \n",
       "\n",
       "   usd_pledged_real  usd_goal_real          dtLaunched dtDeadline  cfLen  \n",
       "0               0.0        1533.95 2015-08-11 12:12:28 2015-10-09     58  \n",
       "1            2421.0       30000.00 2017-09-02 04:43:57 2017-11-01     59  \n",
       "2             220.0       45000.00 2013-01-12 00:20:50 2013-02-26     44  \n",
       "3               1.0        5000.00 2012-03-17 03:24:11 2012-04-16     29  \n",
       "5           52375.0       50000.00 2016-02-26 13:38:27 2016-04-01     34  "
      ]
     },
     "execution_count": 56,
     "metadata": {},
     "output_type": "execute_result"
    }
   ],
   "source": [
    "dataML.head()"
   ]
  },
  {
   "cell_type": "markdown",
   "metadata": {},
   "source": [
    "Controllo l'eventuale presenza di missing values e calcolo l'attuale dimensione del dataset"
   ]
  },
  {
   "cell_type": "code",
   "execution_count": 57,
   "metadata": {},
   "outputs": [
    {
     "data": {
      "text/plain": [
       "ID                    0\n",
       "name                  3\n",
       "category              0\n",
       "main_category         0\n",
       "currency              0\n",
       "deadline              0\n",
       "goal                  0\n",
       "launched              0\n",
       "pledged               0\n",
       "state                 0\n",
       "backers               0\n",
       "country               0\n",
       "usd pledged         210\n",
       "usd_pledged_real      0\n",
       "usd_goal_real         0\n",
       "dtLaunched            0\n",
       "dtDeadline            0\n",
       "cfLen                 0\n",
       "dtype: int64"
      ]
     },
     "execution_count": 57,
     "metadata": {},
     "output_type": "execute_result"
    }
   ],
   "source": [
    "dataML.isnull().sum()"
   ]
  },
  {
   "cell_type": "code",
   "execution_count": 58,
   "metadata": {},
   "outputs": [
    {
     "name": "stdout",
     "output_type": "stream",
     "text": [
      "Il dataset contiene 331675 record\n"
     ]
    }
   ],
   "source": [
    "n_record = dataML.shape[0]\n",
    "print('Il dataset contiene', n_record, 'record')"
   ]
  },
  {
   "cell_type": "markdown",
   "metadata": {},
   "source": [
    "Un'altra feature che sarà utilizzata nell'addestramento dei modelli, come anticipato a inizio capitolo, riguarda il numero di parole che compongono il nome del progetto. Poiché tre di essi presentano un valore nullo nel nome, elimino i relativi record:"
   ]
  },
  {
   "cell_type": "code",
   "execution_count": 59,
   "metadata": {},
   "outputs": [
    {
     "name": "stdout",
     "output_type": "stream",
     "text": [
      "Sono stati eliminati 3 record. Ora il dataset contiene 331672 record\n"
     ]
    }
   ],
   "source": [
    "dataML = dataML.dropna(subset = ['name'])\n",
    "print('Sono stati eliminati', n_record - dataML.shape[0], 'record. Ora il dataset contiene', dataML.shape[0], 'record')"
   ]
  },
  {
   "cell_type": "code",
   "execution_count": 60,
   "metadata": {},
   "outputs": [
    {
     "data": {
      "text/plain": [
       "ID                    0\n",
       "name                  0\n",
       "category              0\n",
       "main_category         0\n",
       "currency              0\n",
       "deadline              0\n",
       "goal                  0\n",
       "launched              0\n",
       "pledged               0\n",
       "state                 0\n",
       "backers               0\n",
       "country               0\n",
       "usd pledged         210\n",
       "usd_pledged_real      0\n",
       "usd_goal_real         0\n",
       "dtLaunched            0\n",
       "dtDeadline            0\n",
       "cfLen                 0\n",
       "dtype: int64"
      ]
     },
     "execution_count": 60,
     "metadata": {},
     "output_type": "execute_result"
    }
   ],
   "source": [
    "dataML.isnull().sum()"
   ]
  },
  {
   "cell_type": "markdown",
   "metadata": {},
   "source": [
    "Al momento ignoro volutamente i missing values nella colonna *usd pledged*, che verrà rimossa negli step successivi.\n",
    "\n",
    "Tornando alla creazione delle feature derivate, dalla data di lancio precedentemente convertita in formato datetime ricavo il mese, la settimana e il giorno della settimana (da lunedì a venerdì) del lancio del progetto."
   ]
  },
  {
   "cell_type": "code",
   "execution_count": 61,
   "metadata": {},
   "outputs": [],
   "source": [
    "# mese\n",
    "dataML['launchedMonth'] = dataML['dtLaunched'].apply(lambda data: data.month)\n",
    "\n",
    "# settimana\n",
    "dataML['launchedWeek'] = dataML['dtLaunched'].apply(lambda data: data.week)      \n",
    "\n",
    "# giorno della settimana (output: 0 = lunedì, 6 = domenica)\n",
    "dataML['launchedDay'] = dataML['dtLaunched'].apply(lambda data: data.weekday())\n",
    "\n",
    "# il progetto è stato lanciato nel weekend? Se sì 1, altrimenti 0\n",
    "dataML['isWeekend'] = dataML['launchedDay'].apply(lambda day: 1 if day > 4 else 0)"
   ]
  },
  {
   "cell_type": "code",
   "execution_count": 62,
   "metadata": {},
   "outputs": [
    {
     "data": {
      "text/html": [
       "<div>\n",
       "<style scoped>\n",
       "    .dataframe tbody tr th:only-of-type {\n",
       "        vertical-align: middle;\n",
       "    }\n",
       "\n",
       "    .dataframe tbody tr th {\n",
       "        vertical-align: top;\n",
       "    }\n",
       "\n",
       "    .dataframe thead th {\n",
       "        text-align: right;\n",
       "    }\n",
       "</style>\n",
       "<table border=\"1\" class=\"dataframe\">\n",
       "  <thead>\n",
       "    <tr style=\"text-align: right;\">\n",
       "      <th></th>\n",
       "      <th>ID</th>\n",
       "      <th>name</th>\n",
       "      <th>category</th>\n",
       "      <th>main_category</th>\n",
       "      <th>currency</th>\n",
       "      <th>deadline</th>\n",
       "      <th>goal</th>\n",
       "      <th>launched</th>\n",
       "      <th>pledged</th>\n",
       "      <th>state</th>\n",
       "      <th>...</th>\n",
       "      <th>usd pledged</th>\n",
       "      <th>usd_pledged_real</th>\n",
       "      <th>usd_goal_real</th>\n",
       "      <th>dtLaunched</th>\n",
       "      <th>dtDeadline</th>\n",
       "      <th>cfLen</th>\n",
       "      <th>launchedMonth</th>\n",
       "      <th>launchedWeek</th>\n",
       "      <th>launchedDay</th>\n",
       "      <th>isWeekend</th>\n",
       "    </tr>\n",
       "  </thead>\n",
       "  <tbody>\n",
       "    <tr>\n",
       "      <td>0</td>\n",
       "      <td>1000002330</td>\n",
       "      <td>The Songs of Adelaide &amp; Abullah</td>\n",
       "      <td>Poetry</td>\n",
       "      <td>Publishing</td>\n",
       "      <td>GBP</td>\n",
       "      <td>2015-10-09</td>\n",
       "      <td>1000.0</td>\n",
       "      <td>2015-08-11 12:12:28</td>\n",
       "      <td>0.0</td>\n",
       "      <td>failed</td>\n",
       "      <td>...</td>\n",
       "      <td>0.0</td>\n",
       "      <td>0.0</td>\n",
       "      <td>1533.95</td>\n",
       "      <td>2015-08-11 12:12:28</td>\n",
       "      <td>2015-10-09</td>\n",
       "      <td>58</td>\n",
       "      <td>8</td>\n",
       "      <td>33</td>\n",
       "      <td>1</td>\n",
       "      <td>0</td>\n",
       "    </tr>\n",
       "    <tr>\n",
       "      <td>1</td>\n",
       "      <td>1000003930</td>\n",
       "      <td>Greeting From Earth: ZGAC Arts Capsule For ET</td>\n",
       "      <td>Narrative Film</td>\n",
       "      <td>Film &amp; Video</td>\n",
       "      <td>USD</td>\n",
       "      <td>2017-11-01</td>\n",
       "      <td>30000.0</td>\n",
       "      <td>2017-09-02 04:43:57</td>\n",
       "      <td>2421.0</td>\n",
       "      <td>failed</td>\n",
       "      <td>...</td>\n",
       "      <td>100.0</td>\n",
       "      <td>2421.0</td>\n",
       "      <td>30000.00</td>\n",
       "      <td>2017-09-02 04:43:57</td>\n",
       "      <td>2017-11-01</td>\n",
       "      <td>59</td>\n",
       "      <td>9</td>\n",
       "      <td>35</td>\n",
       "      <td>5</td>\n",
       "      <td>1</td>\n",
       "    </tr>\n",
       "    <tr>\n",
       "      <td>2</td>\n",
       "      <td>1000004038</td>\n",
       "      <td>Where is Hank?</td>\n",
       "      <td>Narrative Film</td>\n",
       "      <td>Film &amp; Video</td>\n",
       "      <td>USD</td>\n",
       "      <td>2013-02-26</td>\n",
       "      <td>45000.0</td>\n",
       "      <td>2013-01-12 00:20:50</td>\n",
       "      <td>220.0</td>\n",
       "      <td>failed</td>\n",
       "      <td>...</td>\n",
       "      <td>220.0</td>\n",
       "      <td>220.0</td>\n",
       "      <td>45000.00</td>\n",
       "      <td>2013-01-12 00:20:50</td>\n",
       "      <td>2013-02-26</td>\n",
       "      <td>44</td>\n",
       "      <td>1</td>\n",
       "      <td>2</td>\n",
       "      <td>5</td>\n",
       "      <td>1</td>\n",
       "    </tr>\n",
       "    <tr>\n",
       "      <td>3</td>\n",
       "      <td>1000007540</td>\n",
       "      <td>ToshiCapital Rekordz Needs Help to Complete Album</td>\n",
       "      <td>Music</td>\n",
       "      <td>Music</td>\n",
       "      <td>USD</td>\n",
       "      <td>2012-04-16</td>\n",
       "      <td>5000.0</td>\n",
       "      <td>2012-03-17 03:24:11</td>\n",
       "      <td>1.0</td>\n",
       "      <td>failed</td>\n",
       "      <td>...</td>\n",
       "      <td>1.0</td>\n",
       "      <td>1.0</td>\n",
       "      <td>5000.00</td>\n",
       "      <td>2012-03-17 03:24:11</td>\n",
       "      <td>2012-04-16</td>\n",
       "      <td>29</td>\n",
       "      <td>3</td>\n",
       "      <td>11</td>\n",
       "      <td>5</td>\n",
       "      <td>1</td>\n",
       "    </tr>\n",
       "    <tr>\n",
       "      <td>5</td>\n",
       "      <td>1000014025</td>\n",
       "      <td>Monarch Espresso Bar</td>\n",
       "      <td>Restaurants</td>\n",
       "      <td>Food</td>\n",
       "      <td>USD</td>\n",
       "      <td>2016-04-01</td>\n",
       "      <td>50000.0</td>\n",
       "      <td>2016-02-26 13:38:27</td>\n",
       "      <td>52375.0</td>\n",
       "      <td>successful</td>\n",
       "      <td>...</td>\n",
       "      <td>52375.0</td>\n",
       "      <td>52375.0</td>\n",
       "      <td>50000.00</td>\n",
       "      <td>2016-02-26 13:38:27</td>\n",
       "      <td>2016-04-01</td>\n",
       "      <td>34</td>\n",
       "      <td>2</td>\n",
       "      <td>8</td>\n",
       "      <td>4</td>\n",
       "      <td>0</td>\n",
       "    </tr>\n",
       "  </tbody>\n",
       "</table>\n",
       "<p>5 rows × 22 columns</p>\n",
       "</div>"
      ],
      "text/plain": [
       "           ID                                               name  \\\n",
       "0  1000002330                    The Songs of Adelaide & Abullah   \n",
       "1  1000003930      Greeting From Earth: ZGAC Arts Capsule For ET   \n",
       "2  1000004038                                     Where is Hank?   \n",
       "3  1000007540  ToshiCapital Rekordz Needs Help to Complete Album   \n",
       "5  1000014025                               Monarch Espresso Bar   \n",
       "\n",
       "         category main_category currency    deadline     goal  \\\n",
       "0          Poetry    Publishing      GBP  2015-10-09   1000.0   \n",
       "1  Narrative Film  Film & Video      USD  2017-11-01  30000.0   \n",
       "2  Narrative Film  Film & Video      USD  2013-02-26  45000.0   \n",
       "3           Music         Music      USD  2012-04-16   5000.0   \n",
       "5     Restaurants          Food      USD  2016-04-01  50000.0   \n",
       "\n",
       "              launched  pledged       state  ...  usd pledged  \\\n",
       "0  2015-08-11 12:12:28      0.0      failed  ...          0.0   \n",
       "1  2017-09-02 04:43:57   2421.0      failed  ...        100.0   \n",
       "2  2013-01-12 00:20:50    220.0      failed  ...        220.0   \n",
       "3  2012-03-17 03:24:11      1.0      failed  ...          1.0   \n",
       "5  2016-02-26 13:38:27  52375.0  successful  ...      52375.0   \n",
       "\n",
       "  usd_pledged_real  usd_goal_real          dtLaunched  dtDeadline cfLen  \\\n",
       "0              0.0        1533.95 2015-08-11 12:12:28  2015-10-09    58   \n",
       "1           2421.0       30000.00 2017-09-02 04:43:57  2017-11-01    59   \n",
       "2            220.0       45000.00 2013-01-12 00:20:50  2013-02-26    44   \n",
       "3              1.0        5000.00 2012-03-17 03:24:11  2012-04-16    29   \n",
       "5          52375.0       50000.00 2016-02-26 13:38:27  2016-04-01    34   \n",
       "\n",
       "  launchedMonth  launchedWeek  launchedDay  isWeekend  \n",
       "0             8            33            1          0  \n",
       "1             9            35            5          1  \n",
       "2             1             2            5          1  \n",
       "3             3            11            5          1  \n",
       "5             2             8            4          0  \n",
       "\n",
       "[5 rows x 22 columns]"
      ]
     },
     "execution_count": 62,
     "metadata": {},
     "output_type": "execute_result"
    }
   ],
   "source": [
    "dataML.head()"
   ]
  },
  {
   "cell_type": "markdown",
   "metadata": {},
   "source": [
    "Terminata la derivazione delle features riguardanti il periodo di lancio del progetto, ricavo ora le features che derivano dall'appartenenza di ciascun progetto a una macro-categoria (*main_category*) e sotto-categoria (*category*).\n",
    "Ricavo per ciascuna *main_category* e *category* il valore di *goal* medio e il numero di progetti, e associo questi valori ad ogni singolo progetto in base al gruppo di appartenenza. Infine, per ogni progetto calcolo la deviazione del target di raccolta *goal* da quello medio di *main_category* e *category*."
   ]
  },
  {
   "cell_type": "code",
   "execution_count": 63,
   "metadata": {
    "scrolled": false
   },
   "outputs": [
    {
     "data": {
      "text/html": [
       "<div>\n",
       "<style scoped>\n",
       "    .dataframe tbody tr th:only-of-type {\n",
       "        vertical-align: middle;\n",
       "    }\n",
       "\n",
       "    .dataframe tbody tr th {\n",
       "        vertical-align: top;\n",
       "    }\n",
       "\n",
       "    .dataframe thead th {\n",
       "        text-align: right;\n",
       "    }\n",
       "</style>\n",
       "<table border=\"1\" class=\"dataframe\">\n",
       "  <thead>\n",
       "    <tr style=\"text-align: right;\">\n",
       "      <th></th>\n",
       "      <th>ID</th>\n",
       "      <th>name</th>\n",
       "      <th>category</th>\n",
       "      <th>main_category</th>\n",
       "      <th>currency</th>\n",
       "      <th>deadline</th>\n",
       "      <th>goal</th>\n",
       "      <th>launched</th>\n",
       "      <th>pledged</th>\n",
       "      <th>state</th>\n",
       "      <th>...</th>\n",
       "      <th>launchedMonth</th>\n",
       "      <th>launchedWeek</th>\n",
       "      <th>launchedDay</th>\n",
       "      <th>isWeekend</th>\n",
       "      <th>mainCategoryMeanGoal</th>\n",
       "      <th>mainCategoryCount</th>\n",
       "      <th>CategoryMeanGoal</th>\n",
       "      <th>CategoryCount</th>\n",
       "      <th>devFromMainCatGoal</th>\n",
       "      <th>devFromCatGoal</th>\n",
       "    </tr>\n",
       "  </thead>\n",
       "  <tbody>\n",
       "    <tr>\n",
       "      <td>0</td>\n",
       "      <td>1000002330</td>\n",
       "      <td>The Songs of Adelaide &amp; Abullah</td>\n",
       "      <td>Poetry</td>\n",
       "      <td>Publishing</td>\n",
       "      <td>GBP</td>\n",
       "      <td>2015-10-09</td>\n",
       "      <td>1000.0</td>\n",
       "      <td>2015-08-11 12:12:28</td>\n",
       "      <td>0.0</td>\n",
       "      <td>failed</td>\n",
       "      <td>...</td>\n",
       "      <td>8</td>\n",
       "      <td>33</td>\n",
       "      <td>1</td>\n",
       "      <td>0</td>\n",
       "      <td>17543.917732</td>\n",
       "      <td>35445</td>\n",
       "      <td>4969.590554</td>\n",
       "      <td>1246</td>\n",
       "      <td>16009.967732</td>\n",
       "      <td>3435.640554</td>\n",
       "    </tr>\n",
       "    <tr>\n",
       "      <td>1</td>\n",
       "      <td>1001028167</td>\n",
       "      <td>Steel Cathedrals- Short poems for the digital ...</td>\n",
       "      <td>Poetry</td>\n",
       "      <td>Publishing</td>\n",
       "      <td>GBP</td>\n",
       "      <td>2013-07-28</td>\n",
       "      <td>4000.0</td>\n",
       "      <td>2013-06-28 23:17:04</td>\n",
       "      <td>20.0</td>\n",
       "      <td>failed</td>\n",
       "      <td>...</td>\n",
       "      <td>6</td>\n",
       "      <td>26</td>\n",
       "      <td>4</td>\n",
       "      <td>0</td>\n",
       "      <td>17543.917732</td>\n",
       "      <td>35445</td>\n",
       "      <td>4969.590554</td>\n",
       "      <td>1246</td>\n",
       "      <td>11482.947732</td>\n",
       "      <td>-1091.379446</td>\n",
       "    </tr>\n",
       "    <tr>\n",
       "      <td>2</td>\n",
       "      <td>1001468086</td>\n",
       "      <td>Bass River Press</td>\n",
       "      <td>Poetry</td>\n",
       "      <td>Publishing</td>\n",
       "      <td>USD</td>\n",
       "      <td>2015-04-05</td>\n",
       "      <td>2000.0</td>\n",
       "      <td>2015-03-06 19:58:58</td>\n",
       "      <td>325.0</td>\n",
       "      <td>failed</td>\n",
       "      <td>...</td>\n",
       "      <td>3</td>\n",
       "      <td>10</td>\n",
       "      <td>4</td>\n",
       "      <td>0</td>\n",
       "      <td>17543.917732</td>\n",
       "      <td>35445</td>\n",
       "      <td>4969.590554</td>\n",
       "      <td>1246</td>\n",
       "      <td>15543.917732</td>\n",
       "      <td>2969.590554</td>\n",
       "    </tr>\n",
       "    <tr>\n",
       "      <td>3</td>\n",
       "      <td>1001991458</td>\n",
       "      <td>Poems For Apostates &amp; tales of a young Sciento...</td>\n",
       "      <td>Poetry</td>\n",
       "      <td>Publishing</td>\n",
       "      <td>USD</td>\n",
       "      <td>2014-05-31</td>\n",
       "      <td>10000.0</td>\n",
       "      <td>2014-05-01 17:47:49</td>\n",
       "      <td>101.0</td>\n",
       "      <td>failed</td>\n",
       "      <td>...</td>\n",
       "      <td>5</td>\n",
       "      <td>18</td>\n",
       "      <td>3</td>\n",
       "      <td>0</td>\n",
       "      <td>17543.917732</td>\n",
       "      <td>35445</td>\n",
       "      <td>4969.590554</td>\n",
       "      <td>1246</td>\n",
       "      <td>7543.917732</td>\n",
       "      <td>-5030.409446</td>\n",
       "    </tr>\n",
       "    <tr>\n",
       "      <td>4</td>\n",
       "      <td>1002519316</td>\n",
       "      <td>Your poem, by me.</td>\n",
       "      <td>Poetry</td>\n",
       "      <td>Publishing</td>\n",
       "      <td>CAD</td>\n",
       "      <td>2015-10-31</td>\n",
       "      <td>1000.0</td>\n",
       "      <td>2015-10-01 20:00:32</td>\n",
       "      <td>55.0</td>\n",
       "      <td>failed</td>\n",
       "      <td>...</td>\n",
       "      <td>10</td>\n",
       "      <td>40</td>\n",
       "      <td>3</td>\n",
       "      <td>0</td>\n",
       "      <td>17543.917732</td>\n",
       "      <td>35445</td>\n",
       "      <td>4969.590554</td>\n",
       "      <td>1246</td>\n",
       "      <td>16786.397732</td>\n",
       "      <td>4212.070554</td>\n",
       "    </tr>\n",
       "  </tbody>\n",
       "</table>\n",
       "<p>5 rows × 28 columns</p>\n",
       "</div>"
      ],
      "text/plain": [
       "           ID                                               name category  \\\n",
       "0  1000002330                    The Songs of Adelaide & Abullah   Poetry   \n",
       "1  1001028167  Steel Cathedrals- Short poems for the digital ...   Poetry   \n",
       "2  1001468086                                   Bass River Press   Poetry   \n",
       "3  1001991458  Poems For Apostates & tales of a young Sciento...   Poetry   \n",
       "4  1002519316                                  Your poem, by me.   Poetry   \n",
       "\n",
       "  main_category currency    deadline     goal             launched  pledged  \\\n",
       "0    Publishing      GBP  2015-10-09   1000.0  2015-08-11 12:12:28      0.0   \n",
       "1    Publishing      GBP  2013-07-28   4000.0  2013-06-28 23:17:04     20.0   \n",
       "2    Publishing      USD  2015-04-05   2000.0  2015-03-06 19:58:58    325.0   \n",
       "3    Publishing      USD  2014-05-31  10000.0  2014-05-01 17:47:49    101.0   \n",
       "4    Publishing      CAD  2015-10-31   1000.0  2015-10-01 20:00:32     55.0   \n",
       "\n",
       "    state  ...  launchedMonth launchedWeek  launchedDay  isWeekend  \\\n",
       "0  failed  ...              8           33            1          0   \n",
       "1  failed  ...              6           26            4          0   \n",
       "2  failed  ...              3           10            4          0   \n",
       "3  failed  ...              5           18            3          0   \n",
       "4  failed  ...             10           40            3          0   \n",
       "\n",
       "   mainCategoryMeanGoal mainCategoryCount CategoryMeanGoal  CategoryCount  \\\n",
       "0          17543.917732             35445      4969.590554           1246   \n",
       "1          17543.917732             35445      4969.590554           1246   \n",
       "2          17543.917732             35445      4969.590554           1246   \n",
       "3          17543.917732             35445      4969.590554           1246   \n",
       "4          17543.917732             35445      4969.590554           1246   \n",
       "\n",
       "   devFromMainCatGoal  devFromCatGoal  \n",
       "0        16009.967732     3435.640554  \n",
       "1        11482.947732    -1091.379446  \n",
       "2        15543.917732     2969.590554  \n",
       "3         7543.917732    -5030.409446  \n",
       "4        16786.397732     4212.070554  \n",
       "\n",
       "[5 rows x 28 columns]"
      ]
     },
     "execution_count": 63,
     "metadata": {},
     "output_type": "execute_result"
    }
   ],
   "source": [
    "# aggrego i progetti per main_category e category e ne calcolo goal medio e numerosità \n",
    "subDataMainCategory = dataML.groupby('main_category').agg({'usd_goal_real': 'mean', 'category': 'count'})\n",
    "subDataCategory = dataML.groupby('category').agg({'usd_goal_real': 'mean', 'main_category': 'count'})\n",
    "\n",
    "# rinomino le colonne dei due dataframe\n",
    "subDataMainCategory.columns = ['mainCategoryMeanGoal', 'mainCategoryCount']\n",
    "subDataCategory.columns = ['CategoryMeanGoal', 'CategoryCount']\n",
    "\n",
    "# unisco i due dataframe a dataML, così da associare ad ogni progetto il goal medio e il numero di progetti \n",
    "#della main_category e category di appartenenza\n",
    "dataML = dataML.merge(subDataMainCategory, on = 'main_category')\n",
    "dataML = dataML.merge(subDataCategory, on = 'category')\n",
    "\n",
    "# per ogni progetto, calcolo la distanza del target di raccolta da quella media di main_category e category di appartenenza\n",
    "dataML['devFromMainCatGoal'] = dataML['mainCategoryMeanGoal'] - dataML['usd_goal_real']\n",
    "dataML['devFromCatGoal'] = dataML['CategoryMeanGoal'] - dataML['usd_goal_real']\n",
    "\n",
    "dataML.head()"
   ]
  },
  {
   "cell_type": "markdown",
   "metadata": {},
   "source": [
    "Associo a ciascun dataset delle variabili \"dummy\" per tenere traccia della *main_category* di appartenenza"
   ]
  },
  {
   "cell_type": "code",
   "execution_count": 64,
   "metadata": {},
   "outputs": [],
   "source": [
    "# dummies per appartenenza a main_category\n",
    "dataML = pd.concat([dataML, pd.get_dummies(dataML['main_category'])], axis = 1)"
   ]
  },
  {
   "cell_type": "markdown",
   "metadata": {},
   "source": [
    "L'ultima feature utile per i modelli di classificazione, sulla base delle ipotesi fatte a inizio capitolo, consiste nel numero di parole che compongono il nome del progetto, che calcolo di seguito"
   ]
  },
  {
   "cell_type": "code",
   "execution_count": 65,
   "metadata": {},
   "outputs": [],
   "source": [
    "# numero parole\n",
    "dataML['numWords'] = dataML['name'].apply(lambda name: len(str(name).split()))"
   ]
  },
  {
   "cell_type": "markdown",
   "metadata": {},
   "source": [
    "Elaboro le label associate agli esiti dei progetti indicati nella colonna *state*, identificando con 1 un progetto riuscito (*successful*) e 0 un progetto fallito (*failed*), salvandole in una variabile a parte."
   ]
  },
  {
   "cell_type": "code",
   "execution_count": 66,
   "metadata": {
    "scrolled": false
   },
   "outputs": [
    {
     "data": {
      "text/html": [
       "<div>\n",
       "<style scoped>\n",
       "    .dataframe tbody tr th:only-of-type {\n",
       "        vertical-align: middle;\n",
       "    }\n",
       "\n",
       "    .dataframe tbody tr th {\n",
       "        vertical-align: top;\n",
       "    }\n",
       "\n",
       "    .dataframe thead th {\n",
       "        text-align: right;\n",
       "    }\n",
       "</style>\n",
       "<table border=\"1\" class=\"dataframe\">\n",
       "  <thead>\n",
       "    <tr style=\"text-align: right;\">\n",
       "      <th></th>\n",
       "      <th>ID</th>\n",
       "      <th>name</th>\n",
       "      <th>category</th>\n",
       "      <th>main_category</th>\n",
       "      <th>currency</th>\n",
       "      <th>deadline</th>\n",
       "      <th>goal</th>\n",
       "      <th>launched</th>\n",
       "      <th>pledged</th>\n",
       "      <th>state</th>\n",
       "      <th>...</th>\n",
       "      <th>Film &amp; Video</th>\n",
       "      <th>Food</th>\n",
       "      <th>Games</th>\n",
       "      <th>Journalism</th>\n",
       "      <th>Music</th>\n",
       "      <th>Photography</th>\n",
       "      <th>Publishing</th>\n",
       "      <th>Technology</th>\n",
       "      <th>Theater</th>\n",
       "      <th>numWords</th>\n",
       "    </tr>\n",
       "  </thead>\n",
       "  <tbody>\n",
       "    <tr>\n",
       "      <td>0</td>\n",
       "      <td>1000002330</td>\n",
       "      <td>The Songs of Adelaide &amp; Abullah</td>\n",
       "      <td>Poetry</td>\n",
       "      <td>Publishing</td>\n",
       "      <td>GBP</td>\n",
       "      <td>2015-10-09</td>\n",
       "      <td>1000.0</td>\n",
       "      <td>2015-08-11 12:12:28</td>\n",
       "      <td>0.0</td>\n",
       "      <td>failed</td>\n",
       "      <td>...</td>\n",
       "      <td>0</td>\n",
       "      <td>0</td>\n",
       "      <td>0</td>\n",
       "      <td>0</td>\n",
       "      <td>0</td>\n",
       "      <td>0</td>\n",
       "      <td>1</td>\n",
       "      <td>0</td>\n",
       "      <td>0</td>\n",
       "      <td>6</td>\n",
       "    </tr>\n",
       "    <tr>\n",
       "      <td>1</td>\n",
       "      <td>1001028167</td>\n",
       "      <td>Steel Cathedrals- Short poems for the digital ...</td>\n",
       "      <td>Poetry</td>\n",
       "      <td>Publishing</td>\n",
       "      <td>GBP</td>\n",
       "      <td>2013-07-28</td>\n",
       "      <td>4000.0</td>\n",
       "      <td>2013-06-28 23:17:04</td>\n",
       "      <td>20.0</td>\n",
       "      <td>failed</td>\n",
       "      <td>...</td>\n",
       "      <td>0</td>\n",
       "      <td>0</td>\n",
       "      <td>0</td>\n",
       "      <td>0</td>\n",
       "      <td>0</td>\n",
       "      <td>0</td>\n",
       "      <td>1</td>\n",
       "      <td>0</td>\n",
       "      <td>0</td>\n",
       "      <td>8</td>\n",
       "    </tr>\n",
       "    <tr>\n",
       "      <td>2</td>\n",
       "      <td>1001468086</td>\n",
       "      <td>Bass River Press</td>\n",
       "      <td>Poetry</td>\n",
       "      <td>Publishing</td>\n",
       "      <td>USD</td>\n",
       "      <td>2015-04-05</td>\n",
       "      <td>2000.0</td>\n",
       "      <td>2015-03-06 19:58:58</td>\n",
       "      <td>325.0</td>\n",
       "      <td>failed</td>\n",
       "      <td>...</td>\n",
       "      <td>0</td>\n",
       "      <td>0</td>\n",
       "      <td>0</td>\n",
       "      <td>0</td>\n",
       "      <td>0</td>\n",
       "      <td>0</td>\n",
       "      <td>1</td>\n",
       "      <td>0</td>\n",
       "      <td>0</td>\n",
       "      <td>3</td>\n",
       "    </tr>\n",
       "    <tr>\n",
       "      <td>3</td>\n",
       "      <td>1001991458</td>\n",
       "      <td>Poems For Apostates &amp; tales of a young Sciento...</td>\n",
       "      <td>Poetry</td>\n",
       "      <td>Publishing</td>\n",
       "      <td>USD</td>\n",
       "      <td>2014-05-31</td>\n",
       "      <td>10000.0</td>\n",
       "      <td>2014-05-01 17:47:49</td>\n",
       "      <td>101.0</td>\n",
       "      <td>failed</td>\n",
       "      <td>...</td>\n",
       "      <td>0</td>\n",
       "      <td>0</td>\n",
       "      <td>0</td>\n",
       "      <td>0</td>\n",
       "      <td>0</td>\n",
       "      <td>0</td>\n",
       "      <td>1</td>\n",
       "      <td>0</td>\n",
       "      <td>0</td>\n",
       "      <td>9</td>\n",
       "    </tr>\n",
       "    <tr>\n",
       "      <td>4</td>\n",
       "      <td>1002519316</td>\n",
       "      <td>Your poem, by me.</td>\n",
       "      <td>Poetry</td>\n",
       "      <td>Publishing</td>\n",
       "      <td>CAD</td>\n",
       "      <td>2015-10-31</td>\n",
       "      <td>1000.0</td>\n",
       "      <td>2015-10-01 20:00:32</td>\n",
       "      <td>55.0</td>\n",
       "      <td>failed</td>\n",
       "      <td>...</td>\n",
       "      <td>0</td>\n",
       "      <td>0</td>\n",
       "      <td>0</td>\n",
       "      <td>0</td>\n",
       "      <td>0</td>\n",
       "      <td>0</td>\n",
       "      <td>1</td>\n",
       "      <td>0</td>\n",
       "      <td>0</td>\n",
       "      <td>4</td>\n",
       "    </tr>\n",
       "  </tbody>\n",
       "</table>\n",
       "<p>5 rows × 44 columns</p>\n",
       "</div>"
      ],
      "text/plain": [
       "           ID                                               name category  \\\n",
       "0  1000002330                    The Songs of Adelaide & Abullah   Poetry   \n",
       "1  1001028167  Steel Cathedrals- Short poems for the digital ...   Poetry   \n",
       "2  1001468086                                   Bass River Press   Poetry   \n",
       "3  1001991458  Poems For Apostates & tales of a young Sciento...   Poetry   \n",
       "4  1002519316                                  Your poem, by me.   Poetry   \n",
       "\n",
       "  main_category currency    deadline     goal             launched  pledged  \\\n",
       "0    Publishing      GBP  2015-10-09   1000.0  2015-08-11 12:12:28      0.0   \n",
       "1    Publishing      GBP  2013-07-28   4000.0  2013-06-28 23:17:04     20.0   \n",
       "2    Publishing      USD  2015-04-05   2000.0  2015-03-06 19:58:58    325.0   \n",
       "3    Publishing      USD  2014-05-31  10000.0  2014-05-01 17:47:49    101.0   \n",
       "4    Publishing      CAD  2015-10-31   1000.0  2015-10-01 20:00:32     55.0   \n",
       "\n",
       "    state  ...  Film & Video Food  Games  Journalism  Music Photography  \\\n",
       "0  failed  ...             0    0      0           0      0           0   \n",
       "1  failed  ...             0    0      0           0      0           0   \n",
       "2  failed  ...             0    0      0           0      0           0   \n",
       "3  failed  ...             0    0      0           0      0           0   \n",
       "4  failed  ...             0    0      0           0      0           0   \n",
       "\n",
       "  Publishing  Technology  Theater  numWords  \n",
       "0          1           0        0         6  \n",
       "1          1           0        0         8  \n",
       "2          1           0        0         3  \n",
       "3          1           0        0         9  \n",
       "4          1           0        0         4  \n",
       "\n",
       "[5 rows x 44 columns]"
      ]
     },
     "execution_count": 66,
     "metadata": {},
     "output_type": "execute_result"
    }
   ],
   "source": [
    "# Ricavo le labels e le salvo nella variabile stateLabels\n",
    "dataML['isSuccessful'] = dataML['state'].apply(lambda state: 1 if state == 'successful' else 0)\n",
    "stateLabels = dataML['isSuccessful']\n",
    "\n",
    "# rimuovo la colonna delle labels dal dataset di train\n",
    "dataML = dataML.drop(['isSuccessful'], axis = 1)\n",
    "\n",
    "# resetto gli indici del dataset\n",
    "dataML = dataML.reset_index(drop = True)\n",
    "\n",
    "dataML.head()"
   ]
  },
  {
   "cell_type": "code",
   "execution_count": 67,
   "metadata": {},
   "outputs": [
    {
     "name": "stdout",
     "output_type": "stream",
     "text": [
      "Il dataset ha 44 colonne\n"
     ]
    }
   ],
   "source": [
    "print('Il dataset ha', dataML.shape[1], 'colonne')"
   ]
  },
  {
   "cell_type": "markdown",
   "metadata": {},
   "source": [
    "Ora non resta che determinare le features da rimuovere dal dataset *dataML*, così da mantenere solo quelle che saranno prese come input dagli algoritmi di classificazione"
   ]
  },
  {
   "cell_type": "code",
   "execution_count": 68,
   "metadata": {},
   "outputs": [],
   "source": [
    "# definisco le features da rimuovere dal dataset ed elimino le relative colonne\n",
    "featToDrop = ['ID', 'name', 'category', 'main_category', 'currency', 'deadline', 'goal', 'launched', \n",
    "              'pledged', 'state', 'backers', 'country', 'usd pledged', 'usd_pledged_real', 'dtLaunched',\n",
    "              'dtDeadline']\n",
    "\n",
    "dataML = dataML.drop(featToDrop, axis = 1)"
   ]
  },
  {
   "cell_type": "code",
   "execution_count": 69,
   "metadata": {},
   "outputs": [
    {
     "data": {
      "text/html": [
       "<div>\n",
       "<style scoped>\n",
       "    .dataframe tbody tr th:only-of-type {\n",
       "        vertical-align: middle;\n",
       "    }\n",
       "\n",
       "    .dataframe tbody tr th {\n",
       "        vertical-align: top;\n",
       "    }\n",
       "\n",
       "    .dataframe thead th {\n",
       "        text-align: right;\n",
       "    }\n",
       "</style>\n",
       "<table border=\"1\" class=\"dataframe\">\n",
       "  <thead>\n",
       "    <tr style=\"text-align: right;\">\n",
       "      <th></th>\n",
       "      <th>usd_goal_real</th>\n",
       "      <th>cfLen</th>\n",
       "      <th>launchedMonth</th>\n",
       "      <th>launchedWeek</th>\n",
       "      <th>launchedDay</th>\n",
       "      <th>isWeekend</th>\n",
       "      <th>mainCategoryMeanGoal</th>\n",
       "      <th>mainCategoryCount</th>\n",
       "      <th>CategoryMeanGoal</th>\n",
       "      <th>CategoryCount</th>\n",
       "      <th>...</th>\n",
       "      <th>Film &amp; Video</th>\n",
       "      <th>Food</th>\n",
       "      <th>Games</th>\n",
       "      <th>Journalism</th>\n",
       "      <th>Music</th>\n",
       "      <th>Photography</th>\n",
       "      <th>Publishing</th>\n",
       "      <th>Technology</th>\n",
       "      <th>Theater</th>\n",
       "      <th>numWords</th>\n",
       "    </tr>\n",
       "  </thead>\n",
       "  <tbody>\n",
       "    <tr>\n",
       "      <td>0</td>\n",
       "      <td>1533.95</td>\n",
       "      <td>58</td>\n",
       "      <td>8</td>\n",
       "      <td>33</td>\n",
       "      <td>1</td>\n",
       "      <td>0</td>\n",
       "      <td>17543.917732</td>\n",
       "      <td>35445</td>\n",
       "      <td>4969.590554</td>\n",
       "      <td>1246</td>\n",
       "      <td>...</td>\n",
       "      <td>0</td>\n",
       "      <td>0</td>\n",
       "      <td>0</td>\n",
       "      <td>0</td>\n",
       "      <td>0</td>\n",
       "      <td>0</td>\n",
       "      <td>1</td>\n",
       "      <td>0</td>\n",
       "      <td>0</td>\n",
       "      <td>6</td>\n",
       "    </tr>\n",
       "    <tr>\n",
       "      <td>1</td>\n",
       "      <td>6060.97</td>\n",
       "      <td>29</td>\n",
       "      <td>6</td>\n",
       "      <td>26</td>\n",
       "      <td>4</td>\n",
       "      <td>0</td>\n",
       "      <td>17543.917732</td>\n",
       "      <td>35445</td>\n",
       "      <td>4969.590554</td>\n",
       "      <td>1246</td>\n",
       "      <td>...</td>\n",
       "      <td>0</td>\n",
       "      <td>0</td>\n",
       "      <td>0</td>\n",
       "      <td>0</td>\n",
       "      <td>0</td>\n",
       "      <td>0</td>\n",
       "      <td>1</td>\n",
       "      <td>0</td>\n",
       "      <td>0</td>\n",
       "      <td>8</td>\n",
       "    </tr>\n",
       "    <tr>\n",
       "      <td>2</td>\n",
       "      <td>2000.00</td>\n",
       "      <td>29</td>\n",
       "      <td>3</td>\n",
       "      <td>10</td>\n",
       "      <td>4</td>\n",
       "      <td>0</td>\n",
       "      <td>17543.917732</td>\n",
       "      <td>35445</td>\n",
       "      <td>4969.590554</td>\n",
       "      <td>1246</td>\n",
       "      <td>...</td>\n",
       "      <td>0</td>\n",
       "      <td>0</td>\n",
       "      <td>0</td>\n",
       "      <td>0</td>\n",
       "      <td>0</td>\n",
       "      <td>0</td>\n",
       "      <td>1</td>\n",
       "      <td>0</td>\n",
       "      <td>0</td>\n",
       "      <td>3</td>\n",
       "    </tr>\n",
       "    <tr>\n",
       "      <td>3</td>\n",
       "      <td>10000.00</td>\n",
       "      <td>29</td>\n",
       "      <td>5</td>\n",
       "      <td>18</td>\n",
       "      <td>3</td>\n",
       "      <td>0</td>\n",
       "      <td>17543.917732</td>\n",
       "      <td>35445</td>\n",
       "      <td>4969.590554</td>\n",
       "      <td>1246</td>\n",
       "      <td>...</td>\n",
       "      <td>0</td>\n",
       "      <td>0</td>\n",
       "      <td>0</td>\n",
       "      <td>0</td>\n",
       "      <td>0</td>\n",
       "      <td>0</td>\n",
       "      <td>1</td>\n",
       "      <td>0</td>\n",
       "      <td>0</td>\n",
       "      <td>9</td>\n",
       "    </tr>\n",
       "    <tr>\n",
       "      <td>4</td>\n",
       "      <td>757.52</td>\n",
       "      <td>29</td>\n",
       "      <td>10</td>\n",
       "      <td>40</td>\n",
       "      <td>3</td>\n",
       "      <td>0</td>\n",
       "      <td>17543.917732</td>\n",
       "      <td>35445</td>\n",
       "      <td>4969.590554</td>\n",
       "      <td>1246</td>\n",
       "      <td>...</td>\n",
       "      <td>0</td>\n",
       "      <td>0</td>\n",
       "      <td>0</td>\n",
       "      <td>0</td>\n",
       "      <td>0</td>\n",
       "      <td>0</td>\n",
       "      <td>1</td>\n",
       "      <td>0</td>\n",
       "      <td>0</td>\n",
       "      <td>4</td>\n",
       "    </tr>\n",
       "  </tbody>\n",
       "</table>\n",
       "<p>5 rows × 28 columns</p>\n",
       "</div>"
      ],
      "text/plain": [
       "   usd_goal_real  cfLen  launchedMonth  launchedWeek  launchedDay  isWeekend  \\\n",
       "0        1533.95     58              8            33            1          0   \n",
       "1        6060.97     29              6            26            4          0   \n",
       "2        2000.00     29              3            10            4          0   \n",
       "3       10000.00     29              5            18            3          0   \n",
       "4         757.52     29             10            40            3          0   \n",
       "\n",
       "   mainCategoryMeanGoal  mainCategoryCount  CategoryMeanGoal  CategoryCount  \\\n",
       "0          17543.917732              35445       4969.590554           1246   \n",
       "1          17543.917732              35445       4969.590554           1246   \n",
       "2          17543.917732              35445       4969.590554           1246   \n",
       "3          17543.917732              35445       4969.590554           1246   \n",
       "4          17543.917732              35445       4969.590554           1246   \n",
       "\n",
       "   ...  Film & Video  Food  Games  Journalism  Music  Photography  Publishing  \\\n",
       "0  ...             0     0      0           0      0            0           1   \n",
       "1  ...             0     0      0           0      0            0           1   \n",
       "2  ...             0     0      0           0      0            0           1   \n",
       "3  ...             0     0      0           0      0            0           1   \n",
       "4  ...             0     0      0           0      0            0           1   \n",
       "\n",
       "   Technology  Theater  numWords  \n",
       "0           0        0         6  \n",
       "1           0        0         8  \n",
       "2           0        0         3  \n",
       "3           0        0         9  \n",
       "4           0        0         4  \n",
       "\n",
       "[5 rows x 28 columns]"
      ]
     },
     "execution_count": 69,
     "metadata": {},
     "output_type": "execute_result"
    }
   ],
   "source": [
    "dataML.head()"
   ]
  },
  {
   "cell_type": "markdown",
   "metadata": {},
   "source": [
    "<a id='section5'></a>\n",
    "### 5. Training e Test dei modelli di Machine Learning"
   ]
  },
  {
   "cell_type": "markdown",
   "metadata": {},
   "source": [
    "Per la predizione della label *state* che identifica l'esito di un progetto, testo 3 differenti modelli di classificazione supervisionati: \n",
    "* **Random Forest Classifier**;\n",
    "* **K-Neighbors Classifier**;\n",
    "* **Logistic Regression**\n",
    "\n",
    "Effettuo uno scaling dei dati attraverso il *Robust Scaler* contenuto nella libreria sklearn.preprocessing importata all'inizio del notebook"
   ]
  },
  {
   "cell_type": "code",
   "execution_count": 70,
   "metadata": {},
   "outputs": [],
   "source": [
    "scaler = RobustScaler()\n",
    "dataML = scaler.fit_transform(dataML)"
   ]
  },
  {
   "cell_type": "markdown",
   "metadata": {},
   "source": [
    "Splitto il dataset riservando l'80% per il training del modello e il 20% per il test\n"
   ]
  },
  {
   "cell_type": "code",
   "execution_count": 71,
   "metadata": {},
   "outputs": [],
   "source": [
    "dataTrain, dataTest, labelTrain, labelTest = train_test_split(dataML, stateLabels, test_size = 0.2, random_state = 42)"
   ]
  },
  {
   "cell_type": "markdown",
   "metadata": {},
   "source": [
    "Definisco una lista con i nomi degli algoritmi di classificazione che sarà utilizzata all'interno di un ciclo for per il training dei modelli in sequenza. Inoltre, creo un dataframe pandas all'interno del quale saranno salvati i parametri per la valutazione dei 3 modelli, ossia:\n",
    "* **Accuracy (score) del modello out of sample**, applicato sulla porzione di dati destinata al test;\n",
    "* **Accuracy (score) del modello in sample**, applicato sugli stessi dati usati per addestrare il modello al fine di valutare l'eventuale presenza di overfitting;\n",
    "* **Score medio di una 10-fold cross validation**;\n",
    "* **Recall**\n",
    "* **Precision**"
   ]
  },
  {
   "cell_type": "code",
   "execution_count": 72,
   "metadata": {},
   "outputs": [],
   "source": [
    "# lista degli algoritmi di classificazione\n",
    "algorithms = ['Random Forest Classifier', 'K-Neighbors Classifier', 'Logistic Regression']\n",
    "\n",
    "# lista dei parametri per la valutazione dei modelli\n",
    "scores = ['Accuracy Out of Sample', 'Accuracy In Sample', 'Mean Score Cross Validation', 'Recall', 'Precision']\n",
    "\n",
    "# DataFrame contenente i risultati del modello\n",
    "results = pd.DataFrame(columns = algorithms)"
   ]
  },
  {
   "cell_type": "markdown",
   "metadata": {},
   "source": [
    "Eseguo il train e il test dei 3 modelli in sequenza all'interno di un ciclo for. La procedura termina con un apposito messaggio ed impiega qualche minuto per essere completata."
   ]
  },
  {
   "cell_type": "code",
   "execution_count": 73,
   "metadata": {},
   "outputs": [
    {
     "name": "stdout",
     "output_type": "stream",
     "text": [
      "\n",
      "Training model Random Forest Classifier\n",
      "\n",
      "Training model K-Neighbors Classifier\n",
      "\n",
      "Training model Logistic Regression\n",
      "\n",
      "***END OF MODEL TRAINING***\n"
     ]
    }
   ],
   "source": [
    "for a in algorithms:\n",
    "    print('\\nTraining model', a) # mostra progressivamente quale modello è in elaborazione\n",
    "    \n",
    "    if a == 'Random Forest Classifier':\n",
    "        modelObj = RandomForestClassifier(n_estimators = 30, random_state = 19)\n",
    "        \n",
    "    elif a == 'K-Neighbors Classifier':\n",
    "        modelObj = KNeighborsClassifier(n_neighbors = 5, weights = 'uniform')\n",
    "    \n",
    "    elif a == 'Logistic Regression':\n",
    "        modelObj = LogisticRegression(random_state = 19, solver = 'lbfgs')\n",
    "    \n",
    "    scoreCrossVal = round(cross_val_score(modelObj, dataTrain, labelTrain, cv=10).mean()*100,2) # score medio 10-Fold Cross Validation\n",
    "    \n",
    "    modelObj = modelObj.fit(dataTrain, labelTrain)\n",
    "    AccuracyOutSample = round(modelObj.score(dataTest, labelTest)*100,2)       # score (Accuracy) out of sample\n",
    "    AccuracyInSample = round(modelObj.score(dataTrain, labelTrain)*100,2)      # score (Accuracy) in sample\n",
    "    \n",
    "    labelPred = modelObj.predict(dataTest)                                  # predizione delle label per accuracy, recall e precision\n",
    "    \n",
    "    recall = round(metrics.recall_score(labelTest, labelPred)*100,2)        # recall\n",
    "    precision = round(metrics.precision_score(labelTest, labelPred)*100,2)  # precision\n",
    "    \n",
    "    # salvo le metriche di valutazione del modello all'interno del dataframe results\n",
    "    results[a] = [AccuracyOutSample, AccuracyInSample, scoreCrossVal, recall, precision]\n",
    "\n",
    "print('\\n***END OF MODEL TRAINING***') # messaggio di fine training"
   ]
  },
  {
   "cell_type": "markdown",
   "metadata": {},
   "source": [
    "Ordino la tabella con i risultati dei modelli, espressi in termini percentuali"
   ]
  },
  {
   "cell_type": "code",
   "execution_count": 74,
   "metadata": {},
   "outputs": [
    {
     "data": {
      "text/html": [
       "<div>\n",
       "<style scoped>\n",
       "    .dataframe tbody tr th:only-of-type {\n",
       "        vertical-align: middle;\n",
       "    }\n",
       "\n",
       "    .dataframe tbody tr th {\n",
       "        vertical-align: top;\n",
       "    }\n",
       "\n",
       "    .dataframe thead th {\n",
       "        text-align: right;\n",
       "    }\n",
       "</style>\n",
       "<table border=\"1\" class=\"dataframe\">\n",
       "  <thead>\n",
       "    <tr style=\"text-align: right;\">\n",
       "      <th></th>\n",
       "      <th>Metric</th>\n",
       "      <th>Random Forest Classifier</th>\n",
       "      <th>K-Neighbors Classifier</th>\n",
       "      <th>Logistic Regression</th>\n",
       "    </tr>\n",
       "  </thead>\n",
       "  <tbody>\n",
       "    <tr>\n",
       "      <td>0</td>\n",
       "      <td>Accuracy Out of Sample</td>\n",
       "      <td>66.13</td>\n",
       "      <td>63.69</td>\n",
       "      <td>65.41</td>\n",
       "    </tr>\n",
       "    <tr>\n",
       "      <td>1</td>\n",
       "      <td>Accuracy In Sample</td>\n",
       "      <td>99.69</td>\n",
       "      <td>75.63</td>\n",
       "      <td>65.00</td>\n",
       "    </tr>\n",
       "    <tr>\n",
       "      <td>2</td>\n",
       "      <td>Mean Score Cross Validation</td>\n",
       "      <td>65.95</td>\n",
       "      <td>63.59</td>\n",
       "      <td>64.98</td>\n",
       "    </tr>\n",
       "    <tr>\n",
       "      <td>3</td>\n",
       "      <td>Recall</td>\n",
       "      <td>49.62</td>\n",
       "      <td>49.67</td>\n",
       "      <td>41.71</td>\n",
       "    </tr>\n",
       "    <tr>\n",
       "      <td>4</td>\n",
       "      <td>Precision</td>\n",
       "      <td>59.53</td>\n",
       "      <td>55.48</td>\n",
       "      <td>60.17</td>\n",
       "    </tr>\n",
       "  </tbody>\n",
       "</table>\n",
       "</div>"
      ],
      "text/plain": [
       "                        Metric  Random Forest Classifier  \\\n",
       "0       Accuracy Out of Sample                     66.13   \n",
       "1           Accuracy In Sample                     99.69   \n",
       "2  Mean Score Cross Validation                     65.95   \n",
       "3                       Recall                     49.62   \n",
       "4                    Precision                     59.53   \n",
       "\n",
       "   K-Neighbors Classifier  Logistic Regression  \n",
       "0                   63.69                65.41  \n",
       "1                   75.63                65.00  \n",
       "2                   63.59                64.98  \n",
       "3                   49.67                41.71  \n",
       "4                   55.48                60.17  "
      ]
     },
     "execution_count": 74,
     "metadata": {},
     "output_type": "execute_result"
    }
   ],
   "source": [
    "results['Metric'] = scores\n",
    "results = results[['Metric', 'Random Forest Classifier', 'K-Neighbors Classifier', 'Logistic Regression']]\n",
    "results"
   ]
  },
  {
   "cell_type": "markdown",
   "metadata": {},
   "source": [
    "Osservando le metriche nel complesso, il Random Forest Classifier risulta il migliore tra i 3 modelli scelti nonostante appaia particolarmente overfittato, come si può notare dai valori sproporzionati tra *accuracy in sample* (99,7%) e *accuracy out of sample*. Da questo punto di vista, i modelli K-Neighbors e Logistic Regression appaiono decisamente più bilanciati e in grado, comunque, di garantire un'*accuracy* simile al Random Forest e superiore al 60%.\n",
    "\n",
    "Quanto alle altre metriche derivate dalla matrice di confusione, con i modelli Random Forest e Logistic Regression si ottiene un valore di *precision* prossimo al 60%. In 6 casi su 10, perciò, quando gli algoritmi indicano un *positive* (in questo caso un progetto con label *successful*) la previsione si rivela accurata. I valori di *precision*, associati ai bassi valori di *recall*, suggeriscono tuttavia che la principale debolezza dei 3 modelli scelti risiede nel rischio di mappare come *negative* (in questo caso *failed*), un progetto che nella realtà è in grado di concludere con successo la propria campagna di crowdfunding. "
   ]
  },
  {
   "cell_type": "code",
   "execution_count": null,
   "metadata": {},
   "outputs": [],
   "source": []
  }
 ],
 "metadata": {
  "kernelspec": {
   "display_name": "Python 3",
   "language": "python",
   "name": "python3"
  },
  "language_info": {
   "codemirror_mode": {
    "name": "ipython",
    "version": 3
   },
   "file_extension": ".py",
   "mimetype": "text/x-python",
   "name": "python",
   "nbconvert_exporter": "python",
   "pygments_lexer": "ipython3",
   "version": "3.6.9"
  }
 },
 "nbformat": 4,
 "nbformat_minor": 2
}
